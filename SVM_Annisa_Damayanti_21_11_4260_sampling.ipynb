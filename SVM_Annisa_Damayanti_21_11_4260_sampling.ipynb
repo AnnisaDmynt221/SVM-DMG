{
  "cells": [
    {
      "cell_type": "code",
      "execution_count": 11,
      "metadata": {},
      "outputs": [
        {
          "name": "stdout",
          "output_type": "stream",
          "text": [
            "Requirement already satisfied: numpy in c:\\users\\annis\\appdata\\local\\programs\\python\\python38\\lib\\site-packages (1.24.4)\n",
            "Note: you may need to restart the kernel to use updated packages.\n"
          ]
        }
      ],
      "source": [
        "pip install numpy"
      ]
    },
    {
      "cell_type": "code",
      "execution_count": 12,
      "metadata": {},
      "outputs": [
        {
          "name": "stdout",
          "output_type": "stream",
          "text": [
            "Requirement already satisfied: imbalanced-learn in c:\\users\\annis\\appdata\\local\\programs\\python\\python38\\lib\\site-packages (0.12.3)\n",
            "Requirement already satisfied: numpy>=1.17.3 in c:\\users\\annis\\appdata\\local\\programs\\python\\python38\\lib\\site-packages (from imbalanced-learn) (1.24.4)\n",
            "Requirement already satisfied: scipy>=1.5.0 in c:\\users\\annis\\appdata\\local\\programs\\python\\python38\\lib\\site-packages (from imbalanced-learn) (1.10.1)\n",
            "Requirement already satisfied: scikit-learn>=1.0.2 in c:\\users\\annis\\appdata\\local\\programs\\python\\python38\\lib\\site-packages (from imbalanced-learn) (1.3.2)\n",
            "Requirement already satisfied: joblib>=1.1.1 in c:\\users\\annis\\appdata\\local\\programs\\python\\python38\\lib\\site-packages (from imbalanced-learn) (1.4.2)\n",
            "Requirement already satisfied: threadpoolctl>=2.0.0 in c:\\users\\annis\\appdata\\local\\programs\\python\\python38\\lib\\site-packages (from imbalanced-learn) (3.5.0)\n",
            "Note: you may need to restart the kernel to use updated packages.\n"
          ]
        }
      ],
      "source": [
        "pip install imbalanced-learn"
      ]
    },
    {
      "cell_type": "code",
      "execution_count": 13,
      "metadata": {},
      "outputs": [
        {
          "name": "stdout",
          "output_type": "stream",
          "text": [
            "Requirement already satisfied: pandas in c:\\users\\annis\\appdata\\local\\programs\\python\\python38\\lib\\site-packages (2.0.3)\n",
            "Requirement already satisfied: python-dateutil>=2.8.2 in c:\\users\\annis\\appdata\\roaming\\python\\python38\\site-packages (from pandas) (2.9.0.post0)\n",
            "Requirement already satisfied: pytz>=2020.1 in c:\\users\\annis\\appdata\\local\\programs\\python\\python38\\lib\\site-packages (from pandas) (2024.1)\n",
            "Requirement already satisfied: tzdata>=2022.1 in c:\\users\\annis\\appdata\\local\\programs\\python\\python38\\lib\\site-packages (from pandas) (2024.1)\n",
            "Requirement already satisfied: numpy>=1.20.3 in c:\\users\\annis\\appdata\\local\\programs\\python\\python38\\lib\\site-packages (from pandas) (1.24.4)\n",
            "Requirement already satisfied: six>=1.5 in c:\\users\\annis\\appdata\\roaming\\python\\python38\\site-packages (from python-dateutil>=2.8.2->pandas) (1.16.0)\n",
            "Note: you may need to restart the kernel to use updated packages.\n"
          ]
        }
      ],
      "source": [
        "pip install pandas"
      ]
    },
    {
      "cell_type": "code",
      "execution_count": 14,
      "metadata": {},
      "outputs": [
        {
          "name": "stdout",
          "output_type": "stream",
          "text": [
            "Requirement already satisfied: seaborn in c:\\users\\annis\\appdata\\local\\programs\\python\\python38\\lib\\site-packages (0.13.2)\n",
            "Requirement already satisfied: numpy!=1.24.0,>=1.20 in c:\\users\\annis\\appdata\\local\\programs\\python\\python38\\lib\\site-packages (from seaborn) (1.24.4)\n",
            "Requirement already satisfied: pandas>=1.2 in c:\\users\\annis\\appdata\\local\\programs\\python\\python38\\lib\\site-packages (from seaborn) (2.0.3)\n",
            "Requirement already satisfied: matplotlib!=3.6.1,>=3.4 in c:\\users\\annis\\appdata\\local\\programs\\python\\python38\\lib\\site-packages (from seaborn) (3.7.5)\n",
            "Requirement already satisfied: contourpy>=1.0.1 in c:\\users\\annis\\appdata\\local\\programs\\python\\python38\\lib\\site-packages (from matplotlib!=3.6.1,>=3.4->seaborn) (1.1.1)\n",
            "Requirement already satisfied: cycler>=0.10 in c:\\users\\annis\\appdata\\local\\programs\\python\\python38\\lib\\site-packages (from matplotlib!=3.6.1,>=3.4->seaborn) (0.12.1)\n",
            "Requirement already satisfied: fonttools>=4.22.0 in c:\\users\\annis\\appdata\\local\\programs\\python\\python38\\lib\\site-packages (from matplotlib!=3.6.1,>=3.4->seaborn) (4.52.4)\n",
            "Requirement already satisfied: kiwisolver>=1.0.1 in c:\\users\\annis\\appdata\\local\\programs\\python\\python38\\lib\\site-packages (from matplotlib!=3.6.1,>=3.4->seaborn) (1.4.5)\n",
            "Requirement already satisfied: packaging>=20.0 in c:\\users\\annis\\appdata\\roaming\\python\\python38\\site-packages (from matplotlib!=3.6.1,>=3.4->seaborn) (24.0)\n",
            "Requirement already satisfied: pillow>=6.2.0 in c:\\users\\annis\\appdata\\local\\programs\\python\\python38\\lib\\site-packages (from matplotlib!=3.6.1,>=3.4->seaborn) (10.3.0)\n",
            "Requirement already satisfied: pyparsing>=2.3.1 in c:\\users\\annis\\appdata\\local\\programs\\python\\python38\\lib\\site-packages (from matplotlib!=3.6.1,>=3.4->seaborn) (3.1.2)\n",
            "Requirement already satisfied: python-dateutil>=2.7 in c:\\users\\annis\\appdata\\roaming\\python\\python38\\site-packages (from matplotlib!=3.6.1,>=3.4->seaborn) (2.9.0.post0)\n",
            "Requirement already satisfied: importlib-resources>=3.2.0 in c:\\users\\annis\\appdata\\local\\programs\\python\\python38\\lib\\site-packages (from matplotlib!=3.6.1,>=3.4->seaborn) (6.4.0)\n",
            "Requirement already satisfied: pytz>=2020.1 in c:\\users\\annis\\appdata\\local\\programs\\python\\python38\\lib\\site-packages (from pandas>=1.2->seaborn) (2024.1)\n",
            "Requirement already satisfied: tzdata>=2022.1 in c:\\users\\annis\\appdata\\local\\programs\\python\\python38\\lib\\site-packages (from pandas>=1.2->seaborn) (2024.1)\n",
            "Requirement already satisfied: zipp>=3.1.0 in c:\\users\\annis\\appdata\\roaming\\python\\python38\\site-packages (from importlib-resources>=3.2.0->matplotlib!=3.6.1,>=3.4->seaborn) (3.19.0)\n",
            "Requirement already satisfied: six>=1.5 in c:\\users\\annis\\appdata\\roaming\\python\\python38\\site-packages (from python-dateutil>=2.7->matplotlib!=3.6.1,>=3.4->seaborn) (1.16.0)\n",
            "Note: you may need to restart the kernel to use updated packages.\n"
          ]
        }
      ],
      "source": [
        "pip install seaborn"
      ]
    },
    {
      "cell_type": "code",
      "execution_count": 15,
      "metadata": {},
      "outputs": [
        {
          "name": "stdout",
          "output_type": "stream",
          "text": [
            "Requirement already satisfied: matplotlib in c:\\users\\annis\\appdata\\local\\programs\\python\\python38\\lib\\site-packages (3.7.5)\n",
            "Requirement already satisfied: scikit-learn in c:\\users\\annis\\appdata\\local\\programs\\python\\python38\\lib\\site-packages (1.3.2)\n",
            "Note: you may need to restart the kernel to use updated packages.\n"
          ]
        },
        {
          "name": "stderr",
          "output_type": "stream",
          "text": [
            "ERROR: Could not find a version that satisfies the requirement pickle (from versions: none)\n",
            "ERROR: No matching distribution found for pickle\n"
          ]
        }
      ],
      "source": [
        "pip install matplotlib scikit-learn pickle imblearn\n"
      ]
    },
    {
      "cell_type": "code",
      "execution_count": 16,
      "metadata": {
        "id": "FyP6dzGdTfNR"
      },
      "outputs": [],
      "source": [
        "import pandas as pd\n",
        "import numpy as np\n",
        "import seaborn as sns\n",
        "import matplotlib.pyplot as plt\n",
        "import pickle\n",
        "\n",
        "from sklearn.metrics import confusion_matrix, accuracy_score, classification_report\n",
        "from sklearn.svm import SVC\n",
        "from sklearn.preprocessing import StandardScaler\n",
        "from sklearn.model_selection import train_test_split\n",
        "from sklearn.feature_selection import SelectKBest, chi2\n",
        "from sklearn.feature_selection import RFE\n",
        "from sklearn.linear_model import LinearRegression\n",
        "from collections import Counter\n",
        "from imblearn.over_sampling import SMOTE\n",
        "from imblearn.under_sampling import RandomUnderSampler\n",
        "from sklearn.model_selection import train_test_split\n",
        "from collections import Counter\n",
        "from sklearn.pipeline import make_pipeline\n",
        "from sklearn.svm import LinearSVC\n",
        "\n",
        "model_numpy = make_pipeline(StandardScaler(), LinearSVC)\n",
        "model_pandas = make_pipeline(StandardScaler(), LinearSVC())"
      ]
    },
    {
      "cell_type": "markdown",
      "metadata": {
        "id": "2iBUTNOZGtzr"
      },
      "source": [
        "## Import Data"
      ]
    },
    {
      "cell_type": "code",
      "execution_count": 17,
      "metadata": {
        "colab": {
          "base_uri": "https://localhost:8080/",
          "height": 569
        },
        "id": "lqDwq4J_Ve4z",
        "outputId": "622d4731-6436-4d90-b314-25ba699389cd"
      },
      "outputs": [
        {
          "data": {
            "text/html": [
              "<div>\n",
              "<style scoped>\n",
              "    .dataframe tbody tr th:only-of-type {\n",
              "        vertical-align: middle;\n",
              "    }\n",
              "\n",
              "    .dataframe tbody tr th {\n",
              "        vertical-align: top;\n",
              "    }\n",
              "\n",
              "    .dataframe thead th {\n",
              "        text-align: right;\n",
              "    }\n",
              "</style>\n",
              "<table border=\"1\" class=\"dataframe\">\n",
              "  <thead>\n",
              "    <tr style=\"text-align: right;\">\n",
              "      <th></th>\n",
              "      <th>HighBP</th>\n",
              "      <th>HighChol</th>\n",
              "      <th>CholCheck</th>\n",
              "      <th>BMI</th>\n",
              "      <th>Smoker</th>\n",
              "      <th>Stroke</th>\n",
              "      <th>HeartDiseaseorAttack</th>\n",
              "      <th>PhysActivity</th>\n",
              "      <th>Fruits</th>\n",
              "      <th>Veggies</th>\n",
              "      <th>...</th>\n",
              "      <th>NoDocbcCost</th>\n",
              "      <th>GenHlth</th>\n",
              "      <th>MentHlth</th>\n",
              "      <th>PhysHlth</th>\n",
              "      <th>DiffWalk</th>\n",
              "      <th>Sex</th>\n",
              "      <th>Age</th>\n",
              "      <th>Education</th>\n",
              "      <th>Income</th>\n",
              "      <th>Diabetes_012</th>\n",
              "    </tr>\n",
              "  </thead>\n",
              "  <tbody>\n",
              "    <tr>\n",
              "      <th>0</th>\n",
              "      <td>0</td>\n",
              "      <td>1</td>\n",
              "      <td>1</td>\n",
              "      <td>15</td>\n",
              "      <td>1</td>\n",
              "      <td>0</td>\n",
              "      <td>0</td>\n",
              "      <td>0</td>\n",
              "      <td>1</td>\n",
              "      <td>1</td>\n",
              "      <td>...</td>\n",
              "      <td>0</td>\n",
              "      <td>5</td>\n",
              "      <td>10</td>\n",
              "      <td>20</td>\n",
              "      <td>0</td>\n",
              "      <td>0</td>\n",
              "      <td>11</td>\n",
              "      <td>4</td>\n",
              "      <td>5</td>\n",
              "      <td>0</td>\n",
              "    </tr>\n",
              "    <tr>\n",
              "      <th>1</th>\n",
              "      <td>1</td>\n",
              "      <td>0</td>\n",
              "      <td>1</td>\n",
              "      <td>28</td>\n",
              "      <td>0</td>\n",
              "      <td>0</td>\n",
              "      <td>1</td>\n",
              "      <td>0</td>\n",
              "      <td>1</td>\n",
              "      <td>0</td>\n",
              "      <td>...</td>\n",
              "      <td>0</td>\n",
              "      <td>2</td>\n",
              "      <td>0</td>\n",
              "      <td>0</td>\n",
              "      <td>0</td>\n",
              "      <td>0</td>\n",
              "      <td>11</td>\n",
              "      <td>4</td>\n",
              "      <td>3</td>\n",
              "      <td>2</td>\n",
              "    </tr>\n",
              "    <tr>\n",
              "      <th>2</th>\n",
              "      <td>1</td>\n",
              "      <td>1</td>\n",
              "      <td>1</td>\n",
              "      <td>33</td>\n",
              "      <td>0</td>\n",
              "      <td>0</td>\n",
              "      <td>0</td>\n",
              "      <td>1</td>\n",
              "      <td>1</td>\n",
              "      <td>1</td>\n",
              "      <td>...</td>\n",
              "      <td>0</td>\n",
              "      <td>2</td>\n",
              "      <td>10</td>\n",
              "      <td>0</td>\n",
              "      <td>0</td>\n",
              "      <td>0</td>\n",
              "      <td>9</td>\n",
              "      <td>4</td>\n",
              "      <td>7</td>\n",
              "      <td>2</td>\n",
              "    </tr>\n",
              "    <tr>\n",
              "      <th>3</th>\n",
              "      <td>0</td>\n",
              "      <td>1</td>\n",
              "      <td>1</td>\n",
              "      <td>29</td>\n",
              "      <td>0</td>\n",
              "      <td>1</td>\n",
              "      <td>1</td>\n",
              "      <td>1</td>\n",
              "      <td>1</td>\n",
              "      <td>1</td>\n",
              "      <td>...</td>\n",
              "      <td>0</td>\n",
              "      <td>5</td>\n",
              "      <td>0</td>\n",
              "      <td>30</td>\n",
              "      <td>1</td>\n",
              "      <td>1</td>\n",
              "      <td>12</td>\n",
              "      <td>3</td>\n",
              "      <td>4</td>\n",
              "      <td>2</td>\n",
              "    </tr>\n",
              "    <tr>\n",
              "      <th>4</th>\n",
              "      <td>0</td>\n",
              "      <td>0</td>\n",
              "      <td>1</td>\n",
              "      <td>24</td>\n",
              "      <td>1</td>\n",
              "      <td>0</td>\n",
              "      <td>0</td>\n",
              "      <td>0</td>\n",
              "      <td>0</td>\n",
              "      <td>0</td>\n",
              "      <td>...</td>\n",
              "      <td>0</td>\n",
              "      <td>3</td>\n",
              "      <td>0</td>\n",
              "      <td>0</td>\n",
              "      <td>1</td>\n",
              "      <td>1</td>\n",
              "      <td>13</td>\n",
              "      <td>5</td>\n",
              "      <td>6</td>\n",
              "      <td>0</td>\n",
              "    </tr>\n",
              "    <tr>\n",
              "      <th>5</th>\n",
              "      <td>1</td>\n",
              "      <td>0</td>\n",
              "      <td>1</td>\n",
              "      <td>40</td>\n",
              "      <td>1</td>\n",
              "      <td>0</td>\n",
              "      <td>0</td>\n",
              "      <td>1</td>\n",
              "      <td>1</td>\n",
              "      <td>1</td>\n",
              "      <td>...</td>\n",
              "      <td>0</td>\n",
              "      <td>3</td>\n",
              "      <td>5</td>\n",
              "      <td>25</td>\n",
              "      <td>1</td>\n",
              "      <td>0</td>\n",
              "      <td>10</td>\n",
              "      <td>4</td>\n",
              "      <td>8</td>\n",
              "      <td>0</td>\n",
              "    </tr>\n",
              "    <tr>\n",
              "      <th>6</th>\n",
              "      <td>1</td>\n",
              "      <td>1</td>\n",
              "      <td>1</td>\n",
              "      <td>27</td>\n",
              "      <td>1</td>\n",
              "      <td>0</td>\n",
              "      <td>0</td>\n",
              "      <td>0</td>\n",
              "      <td>0</td>\n",
              "      <td>1</td>\n",
              "      <td>...</td>\n",
              "      <td>0</td>\n",
              "      <td>4</td>\n",
              "      <td>25</td>\n",
              "      <td>0</td>\n",
              "      <td>0</td>\n",
              "      <td>0</td>\n",
              "      <td>10</td>\n",
              "      <td>5</td>\n",
              "      <td>3</td>\n",
              "      <td>0</td>\n",
              "    </tr>\n",
              "    <tr>\n",
              "      <th>7</th>\n",
              "      <td>0</td>\n",
              "      <td>0</td>\n",
              "      <td>1</td>\n",
              "      <td>24</td>\n",
              "      <td>0</td>\n",
              "      <td>0</td>\n",
              "      <td>1</td>\n",
              "      <td>0</td>\n",
              "      <td>0</td>\n",
              "      <td>1</td>\n",
              "      <td>...</td>\n",
              "      <td>0</td>\n",
              "      <td>4</td>\n",
              "      <td>0</td>\n",
              "      <td>0</td>\n",
              "      <td>0</td>\n",
              "      <td>1</td>\n",
              "      <td>12</td>\n",
              "      <td>6</td>\n",
              "      <td>7</td>\n",
              "      <td>2</td>\n",
              "    </tr>\n",
              "    <tr>\n",
              "      <th>8</th>\n",
              "      <td>1</td>\n",
              "      <td>1</td>\n",
              "      <td>1</td>\n",
              "      <td>30</td>\n",
              "      <td>0</td>\n",
              "      <td>0</td>\n",
              "      <td>0</td>\n",
              "      <td>0</td>\n",
              "      <td>1</td>\n",
              "      <td>1</td>\n",
              "      <td>...</td>\n",
              "      <td>0</td>\n",
              "      <td>2</td>\n",
              "      <td>0</td>\n",
              "      <td>0</td>\n",
              "      <td>0</td>\n",
              "      <td>0</td>\n",
              "      <td>7</td>\n",
              "      <td>4</td>\n",
              "      <td>6</td>\n",
              "      <td>0</td>\n",
              "    </tr>\n",
              "    <tr>\n",
              "      <th>9</th>\n",
              "      <td>1</td>\n",
              "      <td>1</td>\n",
              "      <td>1</td>\n",
              "      <td>36</td>\n",
              "      <td>1</td>\n",
              "      <td>0</td>\n",
              "      <td>0</td>\n",
              "      <td>0</td>\n",
              "      <td>0</td>\n",
              "      <td>0</td>\n",
              "      <td>...</td>\n",
              "      <td>0</td>\n",
              "      <td>4</td>\n",
              "      <td>0</td>\n",
              "      <td>0</td>\n",
              "      <td>0</td>\n",
              "      <td>1</td>\n",
              "      <td>10</td>\n",
              "      <td>4</td>\n",
              "      <td>8</td>\n",
              "      <td>0</td>\n",
              "    </tr>\n",
              "    <tr>\n",
              "      <th>10</th>\n",
              "      <td>0</td>\n",
              "      <td>0</td>\n",
              "      <td>1</td>\n",
              "      <td>33</td>\n",
              "      <td>1</td>\n",
              "      <td>0</td>\n",
              "      <td>0</td>\n",
              "      <td>1</td>\n",
              "      <td>0</td>\n",
              "      <td>1</td>\n",
              "      <td>...</td>\n",
              "      <td>0</td>\n",
              "      <td>4</td>\n",
              "      <td>0</td>\n",
              "      <td>0</td>\n",
              "      <td>0</td>\n",
              "      <td>1</td>\n",
              "      <td>6</td>\n",
              "      <td>5</td>\n",
              "      <td>2</td>\n",
              "      <td>2</td>\n",
              "    </tr>\n",
              "    <tr>\n",
              "      <th>11</th>\n",
              "      <td>1</td>\n",
              "      <td>1</td>\n",
              "      <td>1</td>\n",
              "      <td>30</td>\n",
              "      <td>0</td>\n",
              "      <td>0</td>\n",
              "      <td>0</td>\n",
              "      <td>0</td>\n",
              "      <td>1</td>\n",
              "      <td>1</td>\n",
              "      <td>...</td>\n",
              "      <td>0</td>\n",
              "      <td>3</td>\n",
              "      <td>2</td>\n",
              "      <td>4</td>\n",
              "      <td>0</td>\n",
              "      <td>0</td>\n",
              "      <td>11</td>\n",
              "      <td>5</td>\n",
              "      <td>4</td>\n",
              "      <td>2</td>\n",
              "    </tr>\n",
              "    <tr>\n",
              "      <th>12</th>\n",
              "      <td>0</td>\n",
              "      <td>0</td>\n",
              "      <td>1</td>\n",
              "      <td>27</td>\n",
              "      <td>0</td>\n",
              "      <td>0</td>\n",
              "      <td>0</td>\n",
              "      <td>0</td>\n",
              "      <td>0</td>\n",
              "      <td>1</td>\n",
              "      <td>...</td>\n",
              "      <td>0</td>\n",
              "      <td>4</td>\n",
              "      <td>0</td>\n",
              "      <td>30</td>\n",
              "      <td>0</td>\n",
              "      <td>1</td>\n",
              "      <td>13</td>\n",
              "      <td>6</td>\n",
              "      <td>5</td>\n",
              "      <td>2</td>\n",
              "    </tr>\n",
              "    <tr>\n",
              "      <th>13</th>\n",
              "      <td>0</td>\n",
              "      <td>0</td>\n",
              "      <td>1</td>\n",
              "      <td>31</td>\n",
              "      <td>1</td>\n",
              "      <td>0</td>\n",
              "      <td>0</td>\n",
              "      <td>0</td>\n",
              "      <td>1</td>\n",
              "      <td>1</td>\n",
              "      <td>...</td>\n",
              "      <td>0</td>\n",
              "      <td>3</td>\n",
              "      <td>10</td>\n",
              "      <td>10</td>\n",
              "      <td>0</td>\n",
              "      <td>0</td>\n",
              "      <td>8</td>\n",
              "      <td>4</td>\n",
              "      <td>8</td>\n",
              "      <td>2</td>\n",
              "    </tr>\n",
              "    <tr>\n",
              "      <th>14</th>\n",
              "      <td>1</td>\n",
              "      <td>1</td>\n",
              "      <td>1</td>\n",
              "      <td>27</td>\n",
              "      <td>1</td>\n",
              "      <td>0</td>\n",
              "      <td>0</td>\n",
              "      <td>0</td>\n",
              "      <td>1</td>\n",
              "      <td>1</td>\n",
              "      <td>...</td>\n",
              "      <td>0</td>\n",
              "      <td>3</td>\n",
              "      <td>0</td>\n",
              "      <td>2</td>\n",
              "      <td>1</td>\n",
              "      <td>0</td>\n",
              "      <td>13</td>\n",
              "      <td>6</td>\n",
              "      <td>6</td>\n",
              "      <td>0</td>\n",
              "    </tr>\n",
              "  </tbody>\n",
              "</table>\n",
              "<p>15 rows × 22 columns</p>\n",
              "</div>"
            ],
            "text/plain": [
              "    HighBP  HighChol  CholCheck  BMI  Smoker  Stroke  HeartDiseaseorAttack  \\\n",
              "0        0         1          1   15       1       0                     0   \n",
              "1        1         0          1   28       0       0                     1   \n",
              "2        1         1          1   33       0       0                     0   \n",
              "3        0         1          1   29       0       1                     1   \n",
              "4        0         0          1   24       1       0                     0   \n",
              "5        1         0          1   40       1       0                     0   \n",
              "6        1         1          1   27       1       0                     0   \n",
              "7        0         0          1   24       0       0                     1   \n",
              "8        1         1          1   30       0       0                     0   \n",
              "9        1         1          1   36       1       0                     0   \n",
              "10       0         0          1   33       1       0                     0   \n",
              "11       1         1          1   30       0       0                     0   \n",
              "12       0         0          1   27       0       0                     0   \n",
              "13       0         0          1   31       1       0                     0   \n",
              "14       1         1          1   27       1       0                     0   \n",
              "\n",
              "    PhysActivity  Fruits  Veggies  ...  NoDocbcCost  GenHlth  MentHlth  \\\n",
              "0              0       1        1  ...            0        5        10   \n",
              "1              0       1        0  ...            0        2         0   \n",
              "2              1       1        1  ...            0        2        10   \n",
              "3              1       1        1  ...            0        5         0   \n",
              "4              0       0        0  ...            0        3         0   \n",
              "5              1       1        1  ...            0        3         5   \n",
              "6              0       0        1  ...            0        4        25   \n",
              "7              0       0        1  ...            0        4         0   \n",
              "8              0       1        1  ...            0        2         0   \n",
              "9              0       0        0  ...            0        4         0   \n",
              "10             1       0        1  ...            0        4         0   \n",
              "11             0       1        1  ...            0        3         2   \n",
              "12             0       0        1  ...            0        4         0   \n",
              "13             0       1        1  ...            0        3        10   \n",
              "14             0       1        1  ...            0        3         0   \n",
              "\n",
              "    PhysHlth  DiffWalk  Sex  Age  Education  Income  Diabetes_012  \n",
              "0         20         0    0   11          4       5             0  \n",
              "1          0         0    0   11          4       3             2  \n",
              "2          0         0    0    9          4       7             2  \n",
              "3         30         1    1   12          3       4             2  \n",
              "4          0         1    1   13          5       6             0  \n",
              "5         25         1    0   10          4       8             0  \n",
              "6          0         0    0   10          5       3             0  \n",
              "7          0         0    1   12          6       7             2  \n",
              "8          0         0    0    7          4       6             0  \n",
              "9          0         0    1   10          4       8             0  \n",
              "10         0         0    1    6          5       2             2  \n",
              "11         4         0    0   11          5       4             2  \n",
              "12        30         0    1   13          6       5             2  \n",
              "13        10         0    0    8          4       8             2  \n",
              "14         2         1    0   13          6       6             0  \n",
              "\n",
              "[15 rows x 22 columns]"
            ]
          },
          "execution_count": 17,
          "metadata": {},
          "output_type": "execute_result"
        }
      ],
      "source": [
        "# Mendefinisikan df sebagai variabel untuk menyimpan data csv\n",
        "df = pd.read_csv(\"diabetes_012_health_indicators_BRFSS2021_fix.csv\", encoding='latin1')\n",
        "\n",
        "# Memanggil 15 data dari keseluruhan data\n",
        "df.head(15)"
      ]
    },
    {
      "cell_type": "markdown",
      "metadata": {
        "id": "O2Hcmb3BGy5Z"
      },
      "source": [
        "## Data Understanding"
      ]
    },
    {
      "cell_type": "code",
      "execution_count": 18,
      "metadata": {
        "colab": {
          "base_uri": "https://localhost:8080/"
        },
        "id": "nTb7fM86XP9r",
        "outputId": "ef838c40-0dd5-4e88-989e-064e1ddb1036"
      },
      "outputs": [
        {
          "name": "stdout",
          "output_type": "stream",
          "text": [
            "Data Shape :  (236378, 22)\n"
          ]
        }
      ],
      "source": [
        "print (\"Data Shape : \", df.shape)"
      ]
    },
    {
      "cell_type": "code",
      "execution_count": 19,
      "metadata": {
        "colab": {
          "base_uri": "https://localhost:8080/"
        },
        "id": "-HjtKrKsWIo7",
        "outputId": "1d1abde4-f7f8-4d8a-ecf6-e4778ce059d5"
      },
      "outputs": [
        {
          "name": "stdout",
          "output_type": "stream",
          "text": [
            "<class 'pandas.core.frame.DataFrame'>\n",
            "RangeIndex: 236378 entries, 0 to 236377\n",
            "Data columns (total 22 columns):\n",
            " #   Column                Non-Null Count   Dtype\n",
            "---  ------                --------------   -----\n",
            " 0   HighBP                236378 non-null  int64\n",
            " 1   HighChol              236378 non-null  int64\n",
            " 2   CholCheck             236378 non-null  int64\n",
            " 3   BMI                   236378 non-null  int64\n",
            " 4   Smoker                236378 non-null  int64\n",
            " 5   Stroke                236378 non-null  int64\n",
            " 6   HeartDiseaseorAttack  236378 non-null  int64\n",
            " 7   PhysActivity          236378 non-null  int64\n",
            " 8   Fruits                236378 non-null  int64\n",
            " 9   Veggies               236378 non-null  int64\n",
            " 10  HvyAlcoholConsump     236378 non-null  int64\n",
            " 11  AnyHealthcare         236378 non-null  int64\n",
            " 12  NoDocbcCost           236378 non-null  int64\n",
            " 13  GenHlth               236378 non-null  int64\n",
            " 14  MentHlth              236378 non-null  int64\n",
            " 15  PhysHlth              236378 non-null  int64\n",
            " 16  DiffWalk              236378 non-null  int64\n",
            " 17  Sex                   236378 non-null  int64\n",
            " 18  Age                   236378 non-null  int64\n",
            " 19  Education             236378 non-null  int64\n",
            " 20  Income                236378 non-null  int64\n",
            " 21  Diabetes_012          236378 non-null  int64\n",
            "dtypes: int64(22)\n",
            "memory usage: 39.7 MB\n"
          ]
        }
      ],
      "source": [
        "df.info()"
      ]
    },
    {
      "cell_type": "code",
      "execution_count": 20,
      "metadata": {
        "colab": {
          "base_uri": "https://localhost:8080/",
          "height": 349
        },
        "id": "fKDnWP3DWP93",
        "outputId": "b0db21a6-0f5d-4250-c670-31ff334e228e"
      },
      "outputs": [
        {
          "data": {
            "text/html": [
              "<div>\n",
              "<style scoped>\n",
              "    .dataframe tbody tr th:only-of-type {\n",
              "        vertical-align: middle;\n",
              "    }\n",
              "\n",
              "    .dataframe tbody tr th {\n",
              "        vertical-align: top;\n",
              "    }\n",
              "\n",
              "    .dataframe thead th {\n",
              "        text-align: right;\n",
              "    }\n",
              "</style>\n",
              "<table border=\"1\" class=\"dataframe\">\n",
              "  <thead>\n",
              "    <tr style=\"text-align: right;\">\n",
              "      <th></th>\n",
              "      <th>HighBP</th>\n",
              "      <th>HighChol</th>\n",
              "      <th>CholCheck</th>\n",
              "      <th>BMI</th>\n",
              "      <th>Smoker</th>\n",
              "      <th>Stroke</th>\n",
              "      <th>HeartDiseaseorAttack</th>\n",
              "      <th>PhysActivity</th>\n",
              "      <th>Fruits</th>\n",
              "      <th>Veggies</th>\n",
              "      <th>...</th>\n",
              "      <th>NoDocbcCost</th>\n",
              "      <th>GenHlth</th>\n",
              "      <th>MentHlth</th>\n",
              "      <th>PhysHlth</th>\n",
              "      <th>DiffWalk</th>\n",
              "      <th>Sex</th>\n",
              "      <th>Age</th>\n",
              "      <th>Education</th>\n",
              "      <th>Income</th>\n",
              "      <th>Diabetes_012</th>\n",
              "    </tr>\n",
              "  </thead>\n",
              "  <tbody>\n",
              "    <tr>\n",
              "      <th>count</th>\n",
              "      <td>236378.000000</td>\n",
              "      <td>236378.000000</td>\n",
              "      <td>236378.000000</td>\n",
              "      <td>236378.000000</td>\n",
              "      <td>236378.000000</td>\n",
              "      <td>236378.000000</td>\n",
              "      <td>236378.000000</td>\n",
              "      <td>236378.000000</td>\n",
              "      <td>236378.000000</td>\n",
              "      <td>236378.000000</td>\n",
              "      <td>...</td>\n",
              "      <td>236378.000000</td>\n",
              "      <td>236378.000000</td>\n",
              "      <td>236378.000000</td>\n",
              "      <td>236378.000000</td>\n",
              "      <td>236378.000000</td>\n",
              "      <td>236378.000000</td>\n",
              "      <td>236378.000000</td>\n",
              "      <td>236378.000000</td>\n",
              "      <td>236378.000000</td>\n",
              "      <td>236378.000000</td>\n",
              "    </tr>\n",
              "    <tr>\n",
              "      <th>mean</th>\n",
              "      <td>0.418558</td>\n",
              "      <td>0.402059</td>\n",
              "      <td>0.963347</td>\n",
              "      <td>28.953579</td>\n",
              "      <td>0.411997</td>\n",
              "      <td>0.038900</td>\n",
              "      <td>0.086548</td>\n",
              "      <td>0.779231</td>\n",
              "      <td>0.621259</td>\n",
              "      <td>0.827767</td>\n",
              "      <td>...</td>\n",
              "      <td>0.063737</td>\n",
              "      <td>2.480717</td>\n",
              "      <td>3.937710</td>\n",
              "      <td>3.751297</td>\n",
              "      <td>0.153948</td>\n",
              "      <td>0.477824</td>\n",
              "      <td>7.863930</td>\n",
              "      <td>5.139099</td>\n",
              "      <td>6.927451</td>\n",
              "      <td>0.307791</td>\n",
              "    </tr>\n",
              "    <tr>\n",
              "      <th>std</th>\n",
              "      <td>0.493324</td>\n",
              "      <td>0.490315</td>\n",
              "      <td>0.187909</td>\n",
              "      <td>6.552055</td>\n",
              "      <td>0.492196</td>\n",
              "      <td>0.193356</td>\n",
              "      <td>0.281172</td>\n",
              "      <td>0.414766</td>\n",
              "      <td>0.485074</td>\n",
              "      <td>0.377583</td>\n",
              "      <td>...</td>\n",
              "      <td>0.244284</td>\n",
              "      <td>1.029134</td>\n",
              "      <td>7.886506</td>\n",
              "      <td>8.245907</td>\n",
              "      <td>0.360900</td>\n",
              "      <td>0.499509</td>\n",
              "      <td>3.236997</td>\n",
              "      <td>0.946185</td>\n",
              "      <td>2.375450</td>\n",
              "      <td>0.705037</td>\n",
              "    </tr>\n",
              "    <tr>\n",
              "      <th>min</th>\n",
              "      <td>0.000000</td>\n",
              "      <td>0.000000</td>\n",
              "      <td>0.000000</td>\n",
              "      <td>12.000000</td>\n",
              "      <td>0.000000</td>\n",
              "      <td>0.000000</td>\n",
              "      <td>0.000000</td>\n",
              "      <td>0.000000</td>\n",
              "      <td>0.000000</td>\n",
              "      <td>0.000000</td>\n",
              "      <td>...</td>\n",
              "      <td>0.000000</td>\n",
              "      <td>1.000000</td>\n",
              "      <td>0.000000</td>\n",
              "      <td>0.000000</td>\n",
              "      <td>0.000000</td>\n",
              "      <td>0.000000</td>\n",
              "      <td>1.000000</td>\n",
              "      <td>1.000000</td>\n",
              "      <td>1.000000</td>\n",
              "      <td>0.000000</td>\n",
              "    </tr>\n",
              "    <tr>\n",
              "      <th>25%</th>\n",
              "      <td>0.000000</td>\n",
              "      <td>0.000000</td>\n",
              "      <td>1.000000</td>\n",
              "      <td>24.000000</td>\n",
              "      <td>0.000000</td>\n",
              "      <td>0.000000</td>\n",
              "      <td>0.000000</td>\n",
              "      <td>1.000000</td>\n",
              "      <td>0.000000</td>\n",
              "      <td>1.000000</td>\n",
              "      <td>...</td>\n",
              "      <td>0.000000</td>\n",
              "      <td>2.000000</td>\n",
              "      <td>0.000000</td>\n",
              "      <td>0.000000</td>\n",
              "      <td>0.000000</td>\n",
              "      <td>0.000000</td>\n",
              "      <td>5.000000</td>\n",
              "      <td>4.000000</td>\n",
              "      <td>5.000000</td>\n",
              "      <td>0.000000</td>\n",
              "    </tr>\n",
              "    <tr>\n",
              "      <th>50%</th>\n",
              "      <td>0.000000</td>\n",
              "      <td>0.000000</td>\n",
              "      <td>1.000000</td>\n",
              "      <td>28.000000</td>\n",
              "      <td>0.000000</td>\n",
              "      <td>0.000000</td>\n",
              "      <td>0.000000</td>\n",
              "      <td>1.000000</td>\n",
              "      <td>1.000000</td>\n",
              "      <td>1.000000</td>\n",
              "      <td>...</td>\n",
              "      <td>0.000000</td>\n",
              "      <td>2.000000</td>\n",
              "      <td>0.000000</td>\n",
              "      <td>0.000000</td>\n",
              "      <td>0.000000</td>\n",
              "      <td>0.000000</td>\n",
              "      <td>8.000000</td>\n",
              "      <td>5.000000</td>\n",
              "      <td>7.000000</td>\n",
              "      <td>0.000000</td>\n",
              "    </tr>\n",
              "    <tr>\n",
              "      <th>75%</th>\n",
              "      <td>1.000000</td>\n",
              "      <td>1.000000</td>\n",
              "      <td>1.000000</td>\n",
              "      <td>32.000000</td>\n",
              "      <td>1.000000</td>\n",
              "      <td>0.000000</td>\n",
              "      <td>0.000000</td>\n",
              "      <td>1.000000</td>\n",
              "      <td>1.000000</td>\n",
              "      <td>1.000000</td>\n",
              "      <td>...</td>\n",
              "      <td>0.000000</td>\n",
              "      <td>3.000000</td>\n",
              "      <td>4.000000</td>\n",
              "      <td>2.000000</td>\n",
              "      <td>0.000000</td>\n",
              "      <td>1.000000</td>\n",
              "      <td>10.000000</td>\n",
              "      <td>6.000000</td>\n",
              "      <td>9.000000</td>\n",
              "      <td>0.000000</td>\n",
              "    </tr>\n",
              "    <tr>\n",
              "      <th>max</th>\n",
              "      <td>1.000000</td>\n",
              "      <td>1.000000</td>\n",
              "      <td>1.000000</td>\n",
              "      <td>99.000000</td>\n",
              "      <td>1.000000</td>\n",
              "      <td>1.000000</td>\n",
              "      <td>1.000000</td>\n",
              "      <td>1.000000</td>\n",
              "      <td>1.000000</td>\n",
              "      <td>1.000000</td>\n",
              "      <td>...</td>\n",
              "      <td>1.000000</td>\n",
              "      <td>5.000000</td>\n",
              "      <td>30.000000</td>\n",
              "      <td>30.000000</td>\n",
              "      <td>1.000000</td>\n",
              "      <td>1.000000</td>\n",
              "      <td>13.000000</td>\n",
              "      <td>6.000000</td>\n",
              "      <td>11.000000</td>\n",
              "      <td>2.000000</td>\n",
              "    </tr>\n",
              "  </tbody>\n",
              "</table>\n",
              "<p>8 rows × 22 columns</p>\n",
              "</div>"
            ],
            "text/plain": [
              "              HighBP       HighChol      CholCheck            BMI  \\\n",
              "count  236378.000000  236378.000000  236378.000000  236378.000000   \n",
              "mean        0.418558       0.402059       0.963347      28.953579   \n",
              "std         0.493324       0.490315       0.187909       6.552055   \n",
              "min         0.000000       0.000000       0.000000      12.000000   \n",
              "25%         0.000000       0.000000       1.000000      24.000000   \n",
              "50%         0.000000       0.000000       1.000000      28.000000   \n",
              "75%         1.000000       1.000000       1.000000      32.000000   \n",
              "max         1.000000       1.000000       1.000000      99.000000   \n",
              "\n",
              "              Smoker         Stroke  HeartDiseaseorAttack   PhysActivity  \\\n",
              "count  236378.000000  236378.000000         236378.000000  236378.000000   \n",
              "mean        0.411997       0.038900              0.086548       0.779231   \n",
              "std         0.492196       0.193356              0.281172       0.414766   \n",
              "min         0.000000       0.000000              0.000000       0.000000   \n",
              "25%         0.000000       0.000000              0.000000       1.000000   \n",
              "50%         0.000000       0.000000              0.000000       1.000000   \n",
              "75%         1.000000       0.000000              0.000000       1.000000   \n",
              "max         1.000000       1.000000              1.000000       1.000000   \n",
              "\n",
              "              Fruits        Veggies  ...    NoDocbcCost        GenHlth  \\\n",
              "count  236378.000000  236378.000000  ...  236378.000000  236378.000000   \n",
              "mean        0.621259       0.827767  ...       0.063737       2.480717   \n",
              "std         0.485074       0.377583  ...       0.244284       1.029134   \n",
              "min         0.000000       0.000000  ...       0.000000       1.000000   \n",
              "25%         0.000000       1.000000  ...       0.000000       2.000000   \n",
              "50%         1.000000       1.000000  ...       0.000000       2.000000   \n",
              "75%         1.000000       1.000000  ...       0.000000       3.000000   \n",
              "max         1.000000       1.000000  ...       1.000000       5.000000   \n",
              "\n",
              "            MentHlth       PhysHlth       DiffWalk            Sex  \\\n",
              "count  236378.000000  236378.000000  236378.000000  236378.000000   \n",
              "mean        3.937710       3.751297       0.153948       0.477824   \n",
              "std         7.886506       8.245907       0.360900       0.499509   \n",
              "min         0.000000       0.000000       0.000000       0.000000   \n",
              "25%         0.000000       0.000000       0.000000       0.000000   \n",
              "50%         0.000000       0.000000       0.000000       0.000000   \n",
              "75%         4.000000       2.000000       0.000000       1.000000   \n",
              "max        30.000000      30.000000       1.000000       1.000000   \n",
              "\n",
              "                 Age      Education         Income   Diabetes_012  \n",
              "count  236378.000000  236378.000000  236378.000000  236378.000000  \n",
              "mean        7.863930       5.139099       6.927451       0.307791  \n",
              "std         3.236997       0.946185       2.375450       0.705037  \n",
              "min         1.000000       1.000000       1.000000       0.000000  \n",
              "25%         5.000000       4.000000       5.000000       0.000000  \n",
              "50%         8.000000       5.000000       7.000000       0.000000  \n",
              "75%        10.000000       6.000000       9.000000       0.000000  \n",
              "max        13.000000       6.000000      11.000000       2.000000  \n",
              "\n",
              "[8 rows x 22 columns]"
            ]
          },
          "execution_count": 20,
          "metadata": {},
          "output_type": "execute_result"
        }
      ],
      "source": [
        "df.describe()"
      ]
    },
    {
      "cell_type": "code",
      "execution_count": 21,
      "metadata": {
        "colab": {
          "base_uri": "https://localhost:8080/"
        },
        "id": "lwQt2DGdXKC4",
        "outputId": "dcefc7ef-b408-4cd2-ec86-d1a1cabc5aed"
      },
      "outputs": [
        {
          "data": {
            "text/plain": [
              "Diabetes_012\n",
              "0    197191\n",
              "2     33568\n",
              "1      5619\n",
              "Name: count, dtype: int64"
            ]
          },
          "execution_count": 21,
          "metadata": {},
          "output_type": "execute_result"
        }
      ],
      "source": [
        "df.Diabetes_012.value_counts()"
      ]
    },
    {
      "cell_type": "markdown",
      "metadata": {
        "id": "ndBl4DdxG6KB"
      },
      "source": [
        "## Cleaning Data"
      ]
    },
    {
      "cell_type": "code",
      "execution_count": 22,
      "metadata": {
        "colab": {
          "base_uri": "https://localhost:8080/"
        },
        "id": "o0ZfTmzdYhG-",
        "outputId": "03d3855c-3fd0-4dde-8dab-4ec3551913e2"
      },
      "outputs": [
        {
          "data": {
            "text/plain": [
              "HighBP                  0\n",
              "HighChol                0\n",
              "CholCheck               0\n",
              "BMI                     0\n",
              "Smoker                  0\n",
              "Stroke                  0\n",
              "HeartDiseaseorAttack    0\n",
              "PhysActivity            0\n",
              "Fruits                  0\n",
              "Veggies                 0\n",
              "HvyAlcoholConsump       0\n",
              "AnyHealthcare           0\n",
              "NoDocbcCost             0\n",
              "GenHlth                 0\n",
              "MentHlth                0\n",
              "PhysHlth                0\n",
              "DiffWalk                0\n",
              "Sex                     0\n",
              "Age                     0\n",
              "Education               0\n",
              "Income                  0\n",
              "Diabetes_012            0\n",
              "dtype: int64"
            ]
          },
          "execution_count": 22,
          "metadata": {},
          "output_type": "execute_result"
        }
      ],
      "source": [
        "df.isnull().sum()"
      ]
    },
    {
      "cell_type": "code",
      "execution_count": 23,
      "metadata": {
        "colab": {
          "base_uri": "https://localhost:8080/"
        },
        "id": "blAu4ZLSYnGg",
        "outputId": "2ef8f7d2-ffe2-4f21-eddf-498807a821e9"
      },
      "outputs": [
        {
          "data": {
            "text/plain": [
              "12828"
            ]
          },
          "execution_count": 23,
          "metadata": {},
          "output_type": "execute_result"
        }
      ],
      "source": [
        "df.duplicated().sum()"
      ]
    },
    {
      "cell_type": "code",
      "execution_count": 24,
      "metadata": {
        "id": "LrljZXxrYs4V"
      },
      "outputs": [],
      "source": [
        "df = df.drop_duplicates()"
      ]
    },
    {
      "cell_type": "code",
      "execution_count": 25,
      "metadata": {
        "colab": {
          "base_uri": "https://localhost:8080/"
        },
        "id": "838j-HV_Yy9Y",
        "outputId": "97e1d1be-27ea-467b-f094-414f57fbdf06"
      },
      "outputs": [
        {
          "data": {
            "text/plain": [
              "0"
            ]
          },
          "execution_count": 25,
          "metadata": {},
          "output_type": "execute_result"
        }
      ],
      "source": [
        "df.duplicated().sum()"
      ]
    },
    {
      "cell_type": "markdown",
      "metadata": {
        "id": "yClTVSxFHAJN"
      },
      "source": [
        "## Exploratory Data Analysis (EDA)"
      ]
    },
    {
      "cell_type": "code",
      "execution_count": 26,
      "metadata": {
        "colab": {
          "base_uri": "https://localhost:8080/",
          "height": 428
        },
        "id": "VhoYQKWfqQq9",
        "outputId": "26736fb4-a14b-4f91-9cdc-277b2b102232"
      },
      "outputs": [
        {
          "data": {
            "image/png": "[encoded data removed]",
            "text/plain": [
              "<Figure size 640x480 with 1 Axes>"
            ]
          },
          "metadata": {},
          "output_type": "display_data"
        }
      ],
      "source": [
        "sns.set_palette('pastel')\n",
        "df['Diabetes_012'].value_counts().plot(kind='pie', autopct='%1.1f%%')\n",
        "plt.title('Presentase Diabetes Gestasional VS Non Diabetes Gestasional')\n",
        "plt.show()"
      ]
    },
    {
      "cell_type": "markdown",
      "metadata": {
        "id": "P06pSnMFwD1g"
      },
      "source": [
        "### Keterangan\n",
        "0 -> untuk tidak menderita diabetes atau menderita diabetes selama kehamilan. (Diabetes Gestasional)\n",
        "\n",
        "1 -> untuk pradiabetes\n",
        "\n",
        "2 -> untuk diabetes\n"
      ]
    },
    {
      "cell_type": "code",
      "execution_count": 27,
      "metadata": {
        "colab": {
          "base_uri": "https://localhost:8080/",
          "height": 574
        },
        "id": "G5kJZ33XuCEN",
        "outputId": "ce494000-d372-4fac-cc70-aefcca6c6cd1"
      },
      "outputs": [
        {
          "name": "stderr",
          "output_type": "stream",
          "text": [
            "C:\\Users\\annis\\AppData\\Local\\Temp\\ipykernel_9748\\3751614902.py:1: FutureWarning: \n",
            "\n",
            "Passing `palette` without assigning `hue` is deprecated and will be removed in v0.14.0. Assign the `x` variable to `hue` and set `legend=False` for the same effect.\n",
            "\n",
            "  sns.countplot(x='Diabetes_012',data=df, palette='pastel')\n"
          ]
        },
        {
          "data": {
            "text/plain": [
              "<Axes: xlabel='Diabetes_012', ylabel='count'>"
            ]
          },
          "execution_count": 27,
          "metadata": {},
          "output_type": "execute_result"
        },
        {
          "data": {
            "image/png": "[encoded data removed]",
            "text/plain": [
              "<Figure size 640x480 with 1 Axes>"
            ]
          },
          "metadata": {},
          "output_type": "display_data"
        }
      ],
      "source": [
        "sns.countplot(x='Diabetes_012',data=df, palette='pastel')"
      ]
    },
    {
      "cell_type": "code",
      "execution_count": 28,
      "metadata": {
        "colab": {
          "base_uri": "https://localhost:8080/",
          "height": 788
        },
        "id": "k6jwv_NHwzMo",
        "outputId": "5a9f329c-dcb4-4e35-c067-e3eda031a8ad"
      },
      "outputs": [
        {
          "data": {
            "text/html": [
              "<div>\n",
              "<style scoped>\n",
              "    .dataframe tbody tr th:only-of-type {\n",
              "        vertical-align: middle;\n",
              "    }\n",
              "\n",
              "    .dataframe tbody tr th {\n",
              "        vertical-align: top;\n",
              "    }\n",
              "\n",
              "    .dataframe thead th {\n",
              "        text-align: right;\n",
              "    }\n",
              "</style>\n",
              "<table border=\"1\" class=\"dataframe\">\n",
              "  <thead>\n",
              "    <tr style=\"text-align: right;\">\n",
              "      <th></th>\n",
              "      <th>HighBP</th>\n",
              "      <th>HighChol</th>\n",
              "      <th>CholCheck</th>\n",
              "      <th>BMI</th>\n",
              "      <th>Smoker</th>\n",
              "      <th>Stroke</th>\n",
              "      <th>HeartDiseaseorAttack</th>\n",
              "      <th>PhysActivity</th>\n",
              "      <th>Fruits</th>\n",
              "      <th>Veggies</th>\n",
              "      <th>...</th>\n",
              "      <th>NoDocbcCost</th>\n",
              "      <th>GenHlth</th>\n",
              "      <th>MentHlth</th>\n",
              "      <th>PhysHlth</th>\n",
              "      <th>DiffWalk</th>\n",
              "      <th>Sex</th>\n",
              "      <th>Age</th>\n",
              "      <th>Education</th>\n",
              "      <th>Income</th>\n",
              "      <th>Diabetes_012</th>\n",
              "    </tr>\n",
              "  </thead>\n",
              "  <tbody>\n",
              "    <tr>\n",
              "      <th>HighBP</th>\n",
              "      <td>1.000000</td>\n",
              "      <td>0.274129</td>\n",
              "      <td>0.106399</td>\n",
              "      <td>0.202857</td>\n",
              "      <td>0.085932</td>\n",
              "      <td>0.124283</td>\n",
              "      <td>0.199719</td>\n",
              "      <td>-0.122115</td>\n",
              "      <td>-0.019032</td>\n",
              "      <td>-0.026092</td>\n",
              "      <td>...</td>\n",
              "      <td>-0.014771</td>\n",
              "      <td>0.265982</td>\n",
              "      <td>-0.000654</td>\n",
              "      <td>0.132883</td>\n",
              "      <td>0.202537</td>\n",
              "      <td>0.067550</td>\n",
              "      <td>0.345298</td>\n",
              "      <td>-0.090550</td>\n",
              "      <td>-0.133428</td>\n",
              "      <td>0.263919</td>\n",
              "    </tr>\n",
              "    <tr>\n",
              "      <th>HighChol</th>\n",
              "      <td>0.274129</td>\n",
              "      <td>1.000000</td>\n",
              "      <td>0.103947</td>\n",
              "      <td>0.077679</td>\n",
              "      <td>0.073066</td>\n",
              "      <td>0.084369</td>\n",
              "      <td>0.168828</td>\n",
              "      <td>-0.069447</td>\n",
              "      <td>-0.015913</td>\n",
              "      <td>-0.025390</td>\n",
              "      <td>...</td>\n",
              "      <td>-0.017499</td>\n",
              "      <td>0.175508</td>\n",
              "      <td>0.011906</td>\n",
              "      <td>0.099634</td>\n",
              "      <td>0.123548</td>\n",
              "      <td>0.026811</td>\n",
              "      <td>0.284193</td>\n",
              "      <td>-0.023920</td>\n",
              "      <td>-0.055032</td>\n",
              "      <td>0.204422</td>\n",
              "    </tr>\n",
              "    <tr>\n",
              "      <th>CholCheck</th>\n",
              "      <td>0.106399</td>\n",
              "      <td>0.103947</td>\n",
              "      <td>1.000000</td>\n",
              "      <td>0.041475</td>\n",
              "      <td>-0.008262</td>\n",
              "      <td>0.027501</td>\n",
              "      <td>0.047018</td>\n",
              "      <td>-0.013645</td>\n",
              "      <td>0.020838</td>\n",
              "      <td>0.013535</td>\n",
              "      <td>...</td>\n",
              "      <td>-0.069290</td>\n",
              "      <td>0.051262</td>\n",
              "      <td>-0.011006</td>\n",
              "      <td>0.036127</td>\n",
              "      <td>0.049560</td>\n",
              "      <td>-0.050092</td>\n",
              "      <td>0.105063</td>\n",
              "      <td>0.024718</td>\n",
              "      <td>0.015530</td>\n",
              "      <td>0.076979</td>\n",
              "    </tr>\n",
              "    <tr>\n",
              "      <th>BMI</th>\n",
              "      <td>0.202857</td>\n",
              "      <td>0.077679</td>\n",
              "      <td>0.041475</td>\n",
              "      <td>1.000000</td>\n",
              "      <td>0.001134</td>\n",
              "      <td>0.004882</td>\n",
              "      <td>0.032176</td>\n",
              "      <td>-0.153241</td>\n",
              "      <td>-0.076961</td>\n",
              "      <td>-0.037062</td>\n",
              "      <td>...</td>\n",
              "      <td>0.041714</td>\n",
              "      <td>0.238137</td>\n",
              "      <td>0.077238</td>\n",
              "      <td>0.110862</td>\n",
              "      <td>0.191256</td>\n",
              "      <td>0.002245</td>\n",
              "      <td>-0.054017</td>\n",
              "      <td>-0.082045</td>\n",
              "      <td>-0.085957</td>\n",
              "      <td>0.204167</td>\n",
              "    </tr>\n",
              "    <tr>\n",
              "      <th>Smoker</th>\n",
              "      <td>0.085932</td>\n",
              "      <td>0.073066</td>\n",
              "      <td>-0.008262</td>\n",
              "      <td>0.001134</td>\n",
              "      <td>1.000000</td>\n",
              "      <td>0.052627</td>\n",
              "      <td>0.105148</td>\n",
              "      <td>-0.081525</td>\n",
              "      <td>-0.059289</td>\n",
              "      <td>-0.005101</td>\n",
              "      <td>...</td>\n",
              "      <td>0.040606</td>\n",
              "      <td>0.148109</td>\n",
              "      <td>0.073555</td>\n",
              "      <td>0.103651</td>\n",
              "      <td>0.114848</td>\n",
              "      <td>0.075528</td>\n",
              "      <td>0.121241</td>\n",
              "      <td>-0.162196</td>\n",
              "      <td>-0.130795</td>\n",
              "      <td>0.048561</td>\n",
              "    </tr>\n",
              "    <tr>\n",
              "      <th>Stroke</th>\n",
              "      <td>0.124283</td>\n",
              "      <td>0.084369</td>\n",
              "      <td>0.027501</td>\n",
              "      <td>0.004882</td>\n",
              "      <td>0.052627</td>\n",
              "      <td>1.000000</td>\n",
              "      <td>0.175449</td>\n",
              "      <td>-0.073689</td>\n",
              "      <td>0.005225</td>\n",
              "      <td>-0.020190</td>\n",
              "      <td>...</td>\n",
              "      <td>0.018925</td>\n",
              "      <td>0.155284</td>\n",
              "      <td>0.040045</td>\n",
              "      <td>0.127730</td>\n",
              "      <td>0.158851</td>\n",
              "      <td>0.002122</td>\n",
              "      <td>0.131403</td>\n",
              "      <td>-0.055518</td>\n",
              "      <td>-0.110072</td>\n",
              "      <td>0.098964</td>\n",
              "    </tr>\n",
              "    <tr>\n",
              "      <th>HeartDiseaseorAttack</th>\n",
              "      <td>0.199719</td>\n",
              "      <td>0.168828</td>\n",
              "      <td>0.047018</td>\n",
              "      <td>0.032176</td>\n",
              "      <td>0.105148</td>\n",
              "      <td>0.175449</td>\n",
              "      <td>1.000000</td>\n",
              "      <td>-0.090697</td>\n",
              "      <td>0.000785</td>\n",
              "      <td>-0.018382</td>\n",
              "      <td>...</td>\n",
              "      <td>0.010293</td>\n",
              "      <td>0.233582</td>\n",
              "      <td>0.027272</td>\n",
              "      <td>0.164944</td>\n",
              "      <td>0.189277</td>\n",
              "      <td>0.088446</td>\n",
              "      <td>0.227264</td>\n",
              "      <td>-0.072054</td>\n",
              "      <td>-0.116631</td>\n",
              "      <td>0.172779</td>\n",
              "    </tr>\n",
              "    <tr>\n",
              "      <th>PhysActivity</th>\n",
              "      <td>-0.122115</td>\n",
              "      <td>-0.069447</td>\n",
              "      <td>-0.013645</td>\n",
              "      <td>-0.153241</td>\n",
              "      <td>-0.081525</td>\n",
              "      <td>-0.073689</td>\n",
              "      <td>-0.090697</td>\n",
              "      <td>1.000000</td>\n",
              "      <td>0.106813</td>\n",
              "      <td>0.126626</td>\n",
              "      <td>...</td>\n",
              "      <td>-0.042941</td>\n",
              "      <td>-0.270600</td>\n",
              "      <td>-0.103774</td>\n",
              "      <td>-0.238717</td>\n",
              "      <td>-0.275670</td>\n",
              "      <td>0.058630</td>\n",
              "      <td>-0.121327</td>\n",
              "      <td>0.198115</td>\n",
              "      <td>0.226771</td>\n",
              "      <td>-0.142070</td>\n",
              "    </tr>\n",
              "    <tr>\n",
              "      <th>Fruits</th>\n",
              "      <td>-0.019032</td>\n",
              "      <td>-0.015913</td>\n",
              "      <td>0.020838</td>\n",
              "      <td>-0.076961</td>\n",
              "      <td>-0.059289</td>\n",
              "      <td>0.005225</td>\n",
              "      <td>0.000785</td>\n",
              "      <td>0.106813</td>\n",
              "      <td>1.000000</td>\n",
              "      <td>0.208139</td>\n",
              "      <td>...</td>\n",
              "      <td>-0.022965</td>\n",
              "      <td>-0.062153</td>\n",
              "      <td>-0.046557</td>\n",
              "      <td>-0.020799</td>\n",
              "      <td>-0.018637</td>\n",
              "      <td>-0.053927</td>\n",
              "      <td>0.073002</td>\n",
              "      <td>0.070672</td>\n",
              "      <td>0.036071</td>\n",
              "      <td>-0.019883</td>\n",
              "    </tr>\n",
              "    <tr>\n",
              "      <th>Veggies</th>\n",
              "      <td>-0.026092</td>\n",
              "      <td>-0.025390</td>\n",
              "      <td>0.013535</td>\n",
              "      <td>-0.037062</td>\n",
              "      <td>-0.005101</td>\n",
              "      <td>-0.020190</td>\n",
              "      <td>-0.018382</td>\n",
              "      <td>0.126626</td>\n",
              "      <td>0.208139</td>\n",
              "      <td>1.000000</td>\n",
              "      <td>...</td>\n",
              "      <td>-0.023594</td>\n",
              "      <td>-0.090643</td>\n",
              "      <td>-0.033965</td>\n",
              "      <td>-0.048819</td>\n",
              "      <td>-0.058143</td>\n",
              "      <td>-0.048588</td>\n",
              "      <td>0.004141</td>\n",
              "      <td>0.117357</td>\n",
              "      <td>0.126632</td>\n",
              "      <td>-0.039099</td>\n",
              "    </tr>\n",
              "    <tr>\n",
              "      <th>HvyAlcoholConsump</th>\n",
              "      <td>-0.009784</td>\n",
              "      <td>-0.018917</td>\n",
              "      <td>-0.026868</td>\n",
              "      <td>-0.039525</td>\n",
              "      <td>0.094171</td>\n",
              "      <td>-0.016495</td>\n",
              "      <td>-0.032273</td>\n",
              "      <td>0.021514</td>\n",
              "      <td>-0.037654</td>\n",
              "      <td>0.024071</td>\n",
              "      <td>...</td>\n",
              "      <td>0.008885</td>\n",
              "      <td>-0.038404</td>\n",
              "      <td>0.033771</td>\n",
              "      <td>-0.026095</td>\n",
              "      <td>-0.038305</td>\n",
              "      <td>-0.004721</td>\n",
              "      <td>-0.052482</td>\n",
              "      <td>0.020605</td>\n",
              "      <td>0.056947</td>\n",
              "      <td>-0.064860</td>\n",
              "    </tr>\n",
              "    <tr>\n",
              "      <th>AnyHealthcare</th>\n",
              "      <td>0.056294</td>\n",
              "      <td>0.061491</td>\n",
              "      <td>0.153692</td>\n",
              "      <td>-0.004372</td>\n",
              "      <td>-0.018534</td>\n",
              "      <td>0.017724</td>\n",
              "      <td>0.028463</td>\n",
              "      <td>0.019482</td>\n",
              "      <td>0.014473</td>\n",
              "      <td>0.029260</td>\n",
              "      <td>...</td>\n",
              "      <td>-0.251007</td>\n",
              "      <td>-0.015380</td>\n",
              "      <td>-0.038265</td>\n",
              "      <td>0.001918</td>\n",
              "      <td>0.025872</td>\n",
              "      <td>-0.028088</td>\n",
              "      <td>0.143096</td>\n",
              "      <td>0.136430</td>\n",
              "      <td>0.128978</td>\n",
              "      <td>0.031030</td>\n",
              "    </tr>\n",
              "    <tr>\n",
              "      <th>NoDocbcCost</th>\n",
              "      <td>-0.014771</td>\n",
              "      <td>-0.017499</td>\n",
              "      <td>-0.069290</td>\n",
              "      <td>0.041714</td>\n",
              "      <td>0.040606</td>\n",
              "      <td>0.018925</td>\n",
              "      <td>0.010293</td>\n",
              "      <td>-0.042941</td>\n",
              "      <td>-0.022965</td>\n",
              "      <td>-0.023594</td>\n",
              "      <td>...</td>\n",
              "      <td>1.000000</td>\n",
              "      <td>0.126549</td>\n",
              "      <td>0.183835</td>\n",
              "      <td>0.112971</td>\n",
              "      <td>0.076938</td>\n",
              "      <td>-0.034827</td>\n",
              "      <td>-0.139594</td>\n",
              "      <td>-0.088349</td>\n",
              "      <td>-0.166295</td>\n",
              "      <td>0.010517</td>\n",
              "    </tr>\n",
              "    <tr>\n",
              "      <th>GenHlth</th>\n",
              "      <td>0.265982</td>\n",
              "      <td>0.175508</td>\n",
              "      <td>0.051262</td>\n",
              "      <td>0.238137</td>\n",
              "      <td>0.148109</td>\n",
              "      <td>0.155284</td>\n",
              "      <td>0.233582</td>\n",
              "      <td>-0.270600</td>\n",
              "      <td>-0.062153</td>\n",
              "      <td>-0.090643</td>\n",
              "      <td>...</td>\n",
              "      <td>0.126549</td>\n",
              "      <td>1.000000</td>\n",
              "      <td>0.250332</td>\n",
              "      <td>0.495039</td>\n",
              "      <td>0.413080</td>\n",
              "      <td>-0.011396</td>\n",
              "      <td>0.155298</td>\n",
              "      <td>-0.213778</td>\n",
              "      <td>-0.318800</td>\n",
              "      <td>0.278590</td>\n",
              "    </tr>\n",
              "    <tr>\n",
              "      <th>MentHlth</th>\n",
              "      <td>-0.000654</td>\n",
              "      <td>0.011906</td>\n",
              "      <td>-0.011006</td>\n",
              "      <td>0.077238</td>\n",
              "      <td>0.073555</td>\n",
              "      <td>0.040045</td>\n",
              "      <td>0.027272</td>\n",
              "      <td>-0.103774</td>\n",
              "      <td>-0.046557</td>\n",
              "      <td>-0.033965</td>\n",
              "      <td>...</td>\n",
              "      <td>0.183835</td>\n",
              "      <td>0.250332</td>\n",
              "      <td>1.000000</td>\n",
              "      <td>0.297840</td>\n",
              "      <td>0.162043</td>\n",
              "      <td>-0.105048</td>\n",
              "      <td>-0.169659</td>\n",
              "      <td>-0.049850</td>\n",
              "      <td>-0.156907</td>\n",
              "      <td>0.028714</td>\n",
              "    </tr>\n",
              "    <tr>\n",
              "      <th>PhysHlth</th>\n",
              "      <td>0.132883</td>\n",
              "      <td>0.099634</td>\n",
              "      <td>0.036127</td>\n",
              "      <td>0.110862</td>\n",
              "      <td>0.103651</td>\n",
              "      <td>0.127730</td>\n",
              "      <td>0.164944</td>\n",
              "      <td>-0.238717</td>\n",
              "      <td>-0.020799</td>\n",
              "      <td>-0.048819</td>\n",
              "      <td>...</td>\n",
              "      <td>0.112971</td>\n",
              "      <td>0.495039</td>\n",
              "      <td>0.297840</td>\n",
              "      <td>1.000000</td>\n",
              "      <td>0.435014</td>\n",
              "      <td>-0.037394</td>\n",
              "      <td>0.096293</td>\n",
              "      <td>-0.117186</td>\n",
              "      <td>-0.229704</td>\n",
              "      <td>0.155713</td>\n",
              "    </tr>\n",
              "    <tr>\n",
              "      <th>DiffWalk</th>\n",
              "      <td>0.202537</td>\n",
              "      <td>0.123548</td>\n",
              "      <td>0.049560</td>\n",
              "      <td>0.191256</td>\n",
              "      <td>0.114848</td>\n",
              "      <td>0.158851</td>\n",
              "      <td>0.189277</td>\n",
              "      <td>-0.275670</td>\n",
              "      <td>-0.018637</td>\n",
              "      <td>-0.058143</td>\n",
              "      <td>...</td>\n",
              "      <td>0.076938</td>\n",
              "      <td>0.413080</td>\n",
              "      <td>0.162043</td>\n",
              "      <td>0.435014</td>\n",
              "      <td>1.000000</td>\n",
              "      <td>-0.068026</td>\n",
              "      <td>0.231774</td>\n",
              "      <td>-0.155030</td>\n",
              "      <td>-0.291751</td>\n",
              "      <td>0.209250</td>\n",
              "    </tr>\n",
              "    <tr>\n",
              "      <th>Sex</th>\n",
              "      <td>0.067550</td>\n",
              "      <td>0.026811</td>\n",
              "      <td>-0.050092</td>\n",
              "      <td>0.002245</td>\n",
              "      <td>0.075528</td>\n",
              "      <td>0.002122</td>\n",
              "      <td>0.088446</td>\n",
              "      <td>0.058630</td>\n",
              "      <td>-0.053927</td>\n",
              "      <td>-0.048588</td>\n",
              "      <td>...</td>\n",
              "      <td>-0.034827</td>\n",
              "      <td>-0.011396</td>\n",
              "      <td>-0.105048</td>\n",
              "      <td>-0.037394</td>\n",
              "      <td>-0.068026</td>\n",
              "      <td>1.000000</td>\n",
              "      <td>-0.024312</td>\n",
              "      <td>-0.018400</td>\n",
              "      <td>0.119659</td>\n",
              "      <td>0.036045</td>\n",
              "    </tr>\n",
              "    <tr>\n",
              "      <th>Age</th>\n",
              "      <td>0.345298</td>\n",
              "      <td>0.284193</td>\n",
              "      <td>0.105063</td>\n",
              "      <td>-0.054017</td>\n",
              "      <td>0.121241</td>\n",
              "      <td>0.131403</td>\n",
              "      <td>0.227264</td>\n",
              "      <td>-0.121327</td>\n",
              "      <td>0.073002</td>\n",
              "      <td>0.004141</td>\n",
              "      <td>...</td>\n",
              "      <td>-0.139594</td>\n",
              "      <td>0.155298</td>\n",
              "      <td>-0.169659</td>\n",
              "      <td>0.096293</td>\n",
              "      <td>0.231774</td>\n",
              "      <td>-0.024312</td>\n",
              "      <td>1.000000</td>\n",
              "      <td>-0.049529</td>\n",
              "      <td>-0.126293</td>\n",
              "      <td>0.201837</td>\n",
              "    </tr>\n",
              "    <tr>\n",
              "      <th>Education</th>\n",
              "      <td>-0.090550</td>\n",
              "      <td>-0.023920</td>\n",
              "      <td>0.024718</td>\n",
              "      <td>-0.082045</td>\n",
              "      <td>-0.162196</td>\n",
              "      <td>-0.055518</td>\n",
              "      <td>-0.072054</td>\n",
              "      <td>0.198115</td>\n",
              "      <td>0.070672</td>\n",
              "      <td>0.117357</td>\n",
              "      <td>...</td>\n",
              "      <td>-0.088349</td>\n",
              "      <td>-0.213778</td>\n",
              "      <td>-0.049850</td>\n",
              "      <td>-0.117186</td>\n",
              "      <td>-0.155030</td>\n",
              "      <td>-0.018400</td>\n",
              "      <td>-0.049529</td>\n",
              "      <td>1.000000</td>\n",
              "      <td>0.413142</td>\n",
              "      <td>-0.095980</td>\n",
              "    </tr>\n",
              "    <tr>\n",
              "      <th>Income</th>\n",
              "      <td>-0.133428</td>\n",
              "      <td>-0.055032</td>\n",
              "      <td>0.015530</td>\n",
              "      <td>-0.085957</td>\n",
              "      <td>-0.130795</td>\n",
              "      <td>-0.110072</td>\n",
              "      <td>-0.116631</td>\n",
              "      <td>0.226771</td>\n",
              "      <td>0.036071</td>\n",
              "      <td>0.126632</td>\n",
              "      <td>...</td>\n",
              "      <td>-0.166295</td>\n",
              "      <td>-0.318800</td>\n",
              "      <td>-0.156907</td>\n",
              "      <td>-0.229704</td>\n",
              "      <td>-0.291751</td>\n",
              "      <td>0.119659</td>\n",
              "      <td>-0.126293</td>\n",
              "      <td>0.413142</td>\n",
              "      <td>1.000000</td>\n",
              "      <td>-0.148385</td>\n",
              "    </tr>\n",
              "    <tr>\n",
              "      <th>Diabetes_012</th>\n",
              "      <td>0.263919</td>\n",
              "      <td>0.204422</td>\n",
              "      <td>0.076979</td>\n",
              "      <td>0.204167</td>\n",
              "      <td>0.048561</td>\n",
              "      <td>0.098964</td>\n",
              "      <td>0.172779</td>\n",
              "      <td>-0.142070</td>\n",
              "      <td>-0.019883</td>\n",
              "      <td>-0.039099</td>\n",
              "      <td>...</td>\n",
              "      <td>0.010517</td>\n",
              "      <td>0.278590</td>\n",
              "      <td>0.028714</td>\n",
              "      <td>0.155713</td>\n",
              "      <td>0.209250</td>\n",
              "      <td>0.036045</td>\n",
              "      <td>0.201837</td>\n",
              "      <td>-0.095980</td>\n",
              "      <td>-0.148385</td>\n",
              "      <td>1.000000</td>\n",
              "    </tr>\n",
              "  </tbody>\n",
              "</table>\n",
              "<p>22 rows × 22 columns</p>\n",
              "</div>"
            ],
            "text/plain": [
              "                        HighBP  HighChol  CholCheck       BMI    Smoker  \\\n",
              "HighBP                1.000000  0.274129   0.106399  0.202857  0.085932   \n",
              "HighChol              0.274129  1.000000   0.103947  0.077679  0.073066   \n",
              "CholCheck             0.106399  0.103947   1.000000  0.041475 -0.008262   \n",
              "BMI                   0.202857  0.077679   0.041475  1.000000  0.001134   \n",
              "Smoker                0.085932  0.073066  -0.008262  0.001134  1.000000   \n",
              "Stroke                0.124283  0.084369   0.027501  0.004882  0.052627   \n",
              "HeartDiseaseorAttack  0.199719  0.168828   0.047018  0.032176  0.105148   \n",
              "PhysActivity         -0.122115 -0.069447  -0.013645 -0.153241 -0.081525   \n",
              "Fruits               -0.019032 -0.015913   0.020838 -0.076961 -0.059289   \n",
              "Veggies              -0.026092 -0.025390   0.013535 -0.037062 -0.005101   \n",
              "HvyAlcoholConsump    -0.009784 -0.018917  -0.026868 -0.039525  0.094171   \n",
              "AnyHealthcare         0.056294  0.061491   0.153692 -0.004372 -0.018534   \n",
              "NoDocbcCost          -0.014771 -0.017499  -0.069290  0.041714  0.040606   \n",
              "GenHlth               0.265982  0.175508   0.051262  0.238137  0.148109   \n",
              "MentHlth             -0.000654  0.011906  -0.011006  0.077238  0.073555   \n",
              "PhysHlth              0.132883  0.099634   0.036127  0.110862  0.103651   \n",
              "DiffWalk              0.202537  0.123548   0.049560  0.191256  0.114848   \n",
              "Sex                   0.067550  0.026811  -0.050092  0.002245  0.075528   \n",
              "Age                   0.345298  0.284193   0.105063 -0.054017  0.121241   \n",
              "Education            -0.090550 -0.023920   0.024718 -0.082045 -0.162196   \n",
              "Income               -0.133428 -0.055032   0.015530 -0.085957 -0.130795   \n",
              "Diabetes_012          0.263919  0.204422   0.076979  0.204167  0.048561   \n",
              "\n",
              "                        Stroke  HeartDiseaseorAttack  PhysActivity    Fruits  \\\n",
              "HighBP                0.124283              0.199719     -0.122115 -0.019032   \n",
              "HighChol              0.084369              0.168828     -0.069447 -0.015913   \n",
              "CholCheck             0.027501              0.047018     -0.013645  0.020838   \n",
              "BMI                   0.004882              0.032176     -0.153241 -0.076961   \n",
              "Smoker                0.052627              0.105148     -0.081525 -0.059289   \n",
              "Stroke                1.000000              0.175449     -0.073689  0.005225   \n",
              "HeartDiseaseorAttack  0.175449              1.000000     -0.090697  0.000785   \n",
              "PhysActivity         -0.073689             -0.090697      1.000000  0.106813   \n",
              "Fruits                0.005225              0.000785      0.106813  1.000000   \n",
              "Veggies              -0.020190             -0.018382      0.126626  0.208139   \n",
              "HvyAlcoholConsump    -0.016495             -0.032273      0.021514 -0.037654   \n",
              "AnyHealthcare         0.017724              0.028463      0.019482  0.014473   \n",
              "NoDocbcCost           0.018925              0.010293     -0.042941 -0.022965   \n",
              "GenHlth               0.155284              0.233582     -0.270600 -0.062153   \n",
              "MentHlth              0.040045              0.027272     -0.103774 -0.046557   \n",
              "PhysHlth              0.127730              0.164944     -0.238717 -0.020799   \n",
              "DiffWalk              0.158851              0.189277     -0.275670 -0.018637   \n",
              "Sex                   0.002122              0.088446      0.058630 -0.053927   \n",
              "Age                   0.131403              0.227264     -0.121327  0.073002   \n",
              "Education            -0.055518             -0.072054      0.198115  0.070672   \n",
              "Income               -0.110072             -0.116631      0.226771  0.036071   \n",
              "Diabetes_012          0.098964              0.172779     -0.142070 -0.019883   \n",
              "\n",
              "                       Veggies  ...  NoDocbcCost   GenHlth  MentHlth  \\\n",
              "HighBP               -0.026092  ...    -0.014771  0.265982 -0.000654   \n",
              "HighChol             -0.025390  ...    -0.017499  0.175508  0.011906   \n",
              "CholCheck             0.013535  ...    -0.069290  0.051262 -0.011006   \n",
              "BMI                  -0.037062  ...     0.041714  0.238137  0.077238   \n",
              "Smoker               -0.005101  ...     0.040606  0.148109  0.073555   \n",
              "Stroke               -0.020190  ...     0.018925  0.155284  0.040045   \n",
              "HeartDiseaseorAttack -0.018382  ...     0.010293  0.233582  0.027272   \n",
              "PhysActivity          0.126626  ...    -0.042941 -0.270600 -0.103774   \n",
              "Fruits                0.208139  ...    -0.022965 -0.062153 -0.046557   \n",
              "Veggies               1.000000  ...    -0.023594 -0.090643 -0.033965   \n",
              "HvyAlcoholConsump     0.024071  ...     0.008885 -0.038404  0.033771   \n",
              "AnyHealthcare         0.029260  ...    -0.251007 -0.015380 -0.038265   \n",
              "NoDocbcCost          -0.023594  ...     1.000000  0.126549  0.183835   \n",
              "GenHlth              -0.090643  ...     0.126549  1.000000  0.250332   \n",
              "MentHlth             -0.033965  ...     0.183835  0.250332  1.000000   \n",
              "PhysHlth             -0.048819  ...     0.112971  0.495039  0.297840   \n",
              "DiffWalk             -0.058143  ...     0.076938  0.413080  0.162043   \n",
              "Sex                  -0.048588  ...    -0.034827 -0.011396 -0.105048   \n",
              "Age                   0.004141  ...    -0.139594  0.155298 -0.169659   \n",
              "Education             0.117357  ...    -0.088349 -0.213778 -0.049850   \n",
              "Income                0.126632  ...    -0.166295 -0.318800 -0.156907   \n",
              "Diabetes_012         -0.039099  ...     0.010517  0.278590  0.028714   \n",
              "\n",
              "                      PhysHlth  DiffWalk       Sex       Age  Education  \\\n",
              "HighBP                0.132883  0.202537  0.067550  0.345298  -0.090550   \n",
              "HighChol              0.099634  0.123548  0.026811  0.284193  -0.023920   \n",
              "CholCheck             0.036127  0.049560 -0.050092  0.105063   0.024718   \n",
              "BMI                   0.110862  0.191256  0.002245 -0.054017  -0.082045   \n",
              "Smoker                0.103651  0.114848  0.075528  0.121241  -0.162196   \n",
              "Stroke                0.127730  0.158851  0.002122  0.131403  -0.055518   \n",
              "HeartDiseaseorAttack  0.164944  0.189277  0.088446  0.227264  -0.072054   \n",
              "PhysActivity         -0.238717 -0.275670  0.058630 -0.121327   0.198115   \n",
              "Fruits               -0.020799 -0.018637 -0.053927  0.073002   0.070672   \n",
              "Veggies              -0.048819 -0.058143 -0.048588  0.004141   0.117357   \n",
              "HvyAlcoholConsump    -0.026095 -0.038305 -0.004721 -0.052482   0.020605   \n",
              "AnyHealthcare         0.001918  0.025872 -0.028088  0.143096   0.136430   \n",
              "NoDocbcCost           0.112971  0.076938 -0.034827 -0.139594  -0.088349   \n",
              "GenHlth               0.495039  0.413080 -0.011396  0.155298  -0.213778   \n",
              "MentHlth              0.297840  0.162043 -0.105048 -0.169659  -0.049850   \n",
              "PhysHlth              1.000000  0.435014 -0.037394  0.096293  -0.117186   \n",
              "DiffWalk              0.435014  1.000000 -0.068026  0.231774  -0.155030   \n",
              "Sex                  -0.037394 -0.068026  1.000000 -0.024312  -0.018400   \n",
              "Age                   0.096293  0.231774 -0.024312  1.000000  -0.049529   \n",
              "Education            -0.117186 -0.155030 -0.018400 -0.049529   1.000000   \n",
              "Income               -0.229704 -0.291751  0.119659 -0.126293   0.413142   \n",
              "Diabetes_012          0.155713  0.209250  0.036045  0.201837  -0.095980   \n",
              "\n",
              "                        Income  Diabetes_012  \n",
              "HighBP               -0.133428      0.263919  \n",
              "HighChol             -0.055032      0.204422  \n",
              "CholCheck             0.015530      0.076979  \n",
              "BMI                  -0.085957      0.204167  \n",
              "Smoker               -0.130795      0.048561  \n",
              "Stroke               -0.110072      0.098964  \n",
              "HeartDiseaseorAttack -0.116631      0.172779  \n",
              "PhysActivity          0.226771     -0.142070  \n",
              "Fruits                0.036071     -0.019883  \n",
              "Veggies               0.126632     -0.039099  \n",
              "HvyAlcoholConsump     0.056947     -0.064860  \n",
              "AnyHealthcare         0.128978      0.031030  \n",
              "NoDocbcCost          -0.166295      0.010517  \n",
              "GenHlth              -0.318800      0.278590  \n",
              "MentHlth             -0.156907      0.028714  \n",
              "PhysHlth             -0.229704      0.155713  \n",
              "DiffWalk             -0.291751      0.209250  \n",
              "Sex                   0.119659      0.036045  \n",
              "Age                  -0.126293      0.201837  \n",
              "Education             0.413142     -0.095980  \n",
              "Income                1.000000     -0.148385  \n",
              "Diabetes_012         -0.148385      1.000000  \n",
              "\n",
              "[22 rows x 22 columns]"
            ]
          },
          "execution_count": 28,
          "metadata": {},
          "output_type": "execute_result"
        }
      ],
      "source": [
        "df.corr()"
      ]
    },
    {
      "cell_type": "markdown",
      "metadata": {
        "id": "LkhiIjxZunwM"
      },
      "source": [
        "## Keterangan\n",
        "untuk menghitung koefisien korelasi person antara semua kolom dalam dataframe. Nilai korelasi -1 dan 1.\n",
        "\n",
        "1 -> korelasi positig yang sempurna -> bergerak dalam arah yang sama\n",
        "\n",
        "0 -> tidak ada korelasi -> tidak ada hubungan linear antara dua variabel\n",
        "\n",
        "-1 -> korelasi negatif yang sempurna -> bergerak dalam arah yang berlawanan\n"
      ]
    },
    {
      "cell_type": "markdown",
      "metadata": {
        "id": "okgKeZJjVSQD"
      },
      "source": [
        "## Transformasi Data"
      ]
    },
    {
      "cell_type": "code",
      "execution_count": 29,
      "metadata": {
        "colab": {
          "base_uri": "https://localhost:8080/"
        },
        "id": "K2jc9KFDXKI3",
        "outputId": "17ff0440-d58f-4d05-968e-3316d48462aa"
      },
      "outputs": [
        {
          "name": "stdout",
          "output_type": "stream",
          "text": [
            "[[-0.87143847  1.19725067  0.20009582 ... -1.15979152 -0.7709799\n",
            "  -0.45011285]\n",
            " [ 1.14752795 -0.83524697  0.20009582 ... -1.15979152 -1.61212824\n",
            "   2.32940534]\n",
            " [ 1.14752795  1.19725067  0.20009582 ... -1.15979152  0.07016844\n",
            "   2.32940534]\n",
            " ...\n",
            " [-0.87143847  1.19725067  0.20009582 ...  0.94104343  1.33189095\n",
            "  -0.45011285]\n",
            " [ 1.14752795 -0.83524697  0.20009582 ... -1.15979152 -0.35040573\n",
            "  -0.45011285]\n",
            " [-0.87143847  1.19725067  0.20009582 ...  0.94104343 -0.35040573\n",
            "  -0.45011285]]\n"
          ]
        }
      ],
      "source": [
        "# Scaling\n",
        "## membantu meningkatkan performa model machine learning dan mempermudah interpretasi hasil model\n",
        "scaler = StandardScaler()\n",
        "scaled_df = scaler.fit_transform(df)\n",
        "print(scaled_df)"
      ]
    },
    {
      "cell_type": "markdown",
      "metadata": {
        "id": "ZThmHrXRh-q5"
      },
      "source": [
        "### Keterangan\n",
        "StandardScaler untuk menskalakan nilai-nilai dalam dataframe ke rentang yang sama, sehingga lebih mudah untuk dibandingkan dan dianalisis."
      ]
    },
    {
      "cell_type": "markdown",
      "metadata": {
        "id": "wsmdP1DvksiT"
      },
      "source": [
        "## Fitur Selection"
      ]
    },
    {
      "cell_type": "code",
      "execution_count": 30,
      "metadata": {
        "colab": {
          "base_uri": "https://localhost:8080/"
        },
        "id": "MP37U1-C_Dma",
        "outputId": "08c95d5f-a18c-4f69-dad9-9bf4458d26a8"
      },
      "outputs": [
        {
          "name": "stdout",
          "output_type": "stream",
          "text": [
            "Fitur: HighBP - Ranking: 1\n",
            "Fitur: HighChol - Ranking: 1\n",
            "Fitur: CholCheck - Ranking: 1\n",
            "Fitur: BMI - Ranking: 4\n",
            "Fitur: Smoker - Ranking: 2\n",
            "Fitur: Stroke - Ranking: 1\n",
            "Fitur: HeartDiseaseorAttack - Ranking: 1\n",
            "Fitur: PhysActivity - Ranking: 1\n",
            "Fitur: Fruits - Ranking: 11\n",
            "Fitur: Veggies - Ranking: 9\n",
            "Fitur: HvyAlcoholConsump - Ranking: 1\n",
            "Fitur: AnyHealthcare - Ranking: 5\n",
            "Fitur: NoDocbcCost - Ranking: 7\n",
            "Fitur: GenHlth - Ranking: 1\n",
            "Fitur: MentHlth - Ranking: 10\n",
            "Fitur: PhysHlth - Ranking: 12\n",
            "Fitur: DiffWalk - Ranking: 1\n",
            "Fitur: Sex - Ranking: 1\n",
            "Fitur: Age - Ranking: 3\n",
            "Fitur: Education - Ranking: 8\n",
            "Fitur: Income - Ranking: 6\n"
          ]
        }
      ],
      "source": [
        "# Wrapper Methods\n",
        "# Recursive Feature Elimination (RFE)\n",
        "\n",
        "x = df.drop(\"Diabetes_012\", axis=1)\n",
        "y = df[\"Diabetes_012\"]\n",
        "\n",
        "# Memilih 10 fitur terbaik dengan RFE dan regresi linier\n",
        "selector = RFE(estimator=LinearRegression(), n_features_to_select=10)\n",
        "selected_features = selector.fit_transform(x, y)\n",
        "\n",
        "# Melihat ranking fitur berdasarkan RFE\n",
        "ranking = selector.ranking_\n",
        "\n",
        "# Menampilkan nama fitur dan rankingnya\n",
        "features_names = x.columns\n",
        "for i, rank in enumerate(ranking):\n",
        "    print(f\"Fitur: {features_names[i]} - Ranking: {rank}\")"
      ]
    },
    {
      "cell_type": "code",
      "execution_count": 31,
      "metadata": {
        "colab": {
          "base_uri": "https://localhost:8080/"
        },
        "id": "EcC_0Fj0I-zc",
        "outputId": "fdee72e0-deb0-4b37-8ddf-9c3a479e4ccc"
      },
      "outputs": [
        {
          "name": "stdout",
          "output_type": "stream",
          "text": [
            "Reduced DataFrame with Selected Features:\n",
            "        HighBP  HighChol  CholCheck  Stroke  HeartDiseaseorAttack  \\\n",
            "0            0         1          1       0                     0   \n",
            "1            1         0          1       0                     1   \n",
            "2            1         1          1       0                     0   \n",
            "3            0         1          1       1                     1   \n",
            "4            0         0          1       0                     0   \n",
            "...        ...       ...        ...     ...                   ...   \n",
            "236373       1         1          1       0                     0   \n",
            "236374       1         0          1       0                     0   \n",
            "236375       0         1          1       0                     0   \n",
            "236376       1         0          1       0                     0   \n",
            "236377       0         1          1       0                     0   \n",
            "\n",
            "        PhysActivity  HvyAlcoholConsump  GenHlth  DiffWalk  Sex  \n",
            "0                  0                  0        5         0    0  \n",
            "1                  0                  0        2         0    0  \n",
            "2                  1                  0        2         0    0  \n",
            "3                  1                  0        5         1    1  \n",
            "4                  0                  0        3         1    1  \n",
            "...              ...                ...      ...       ...  ...  \n",
            "236373             1                  0        4         0    1  \n",
            "236374             1                  0        2         0    0  \n",
            "236375             1                  0        2         0    1  \n",
            "236376             1                  0        2         0    1  \n",
            "236377             1                  0        1         0    0  \n",
            "\n",
            "[223550 rows x 10 columns]\n"
          ]
        }
      ],
      "source": [
        "x = df.drop('Diabetes_012', axis=1)\n",
        "y = df['Diabetes_012']\n",
        "\n",
        "# Definisikan model RFE dan jumlah fitur yang akan dipilih\n",
        "rfe = RFE(estimator=LinearRegression(), n_features_to_select=10)\n",
        "# latih RFE pada data\n",
        "rfe.fit(x, y)\n",
        "\n",
        "# Dapatkan fitur yang dipilih berdasarkan RFE\n",
        "selected_features = x.columns[rfe.support_]\n",
        "\n",
        "# Drop unused features from the original DataFrame\n",
        "x_reduced = x[selected_features]\n",
        "\n",
        "# Print the reduced DataFrame with selected features\n",
        "print(\"Reduced DataFrame with Selected Features:\")\n",
        "print(x_reduced)\n"
      ]
    },
    {
      "cell_type": "markdown",
      "metadata": {
        "id": "Hhk1cI0pz4va"
      },
      "source": [
        "## Imbalance Data"
      ]
    },
    {
      "cell_type": "markdown",
      "metadata": {},
      "source": [
        "## Metode Undersampling"
      ]
    },
    {
      "cell_type": "code",
      "execution_count": 32,
      "metadata": {},
      "outputs": [
        {
          "name": "stderr",
          "output_type": "stream",
          "text": [
            "C:\\Users\\annis\\AppData\\Local\\Temp\\ipykernel_9748\\3751614902.py:1: FutureWarning: \n",
            "\n",
            "Passing `palette` without assigning `hue` is deprecated and will be removed in v0.14.0. Assign the `x` variable to `hue` and set `legend=False` for the same effect.\n",
            "\n",
            "  sns.countplot(x='Diabetes_012',data=df, palette='pastel')\n"
          ]
        },
        {
          "data": {
            "text/plain": [
              "<Axes: xlabel='Diabetes_012', ylabel='count'>"
            ]
          },
          "execution_count": 32,
          "metadata": {},
          "output_type": "execute_result"
        },
        {
          "data": {
            "image/png": "[encoded data removed]",
            "text/plain": [
              "<Figure size 640x480 with 1 Axes>"
            ]
          },
          "metadata": {},
          "output_type": "display_data"
        }
      ],
      "source": [
        "sns.countplot(x='Diabetes_012',data=df, palette='pastel')"
      ]
    },
    {
      "cell_type": "code",
      "execution_count": 33,
      "metadata": {},
      "outputs": [
        {
          "name": "stdout",
          "output_type": "stream",
          "text": [
            "Diabetes_012\n",
            "0    184542\n",
            "2     33395\n",
            "1      5613\n",
            "Name: count, dtype: int64\n"
          ]
        }
      ],
      "source": [
        "# Analisis data\n",
        "print(df['Diabetes_012'].value_counts())  # Menampilkan jumlah sampel untuk setiap kelas target\n"
      ]
    },
    {
      "cell_type": "code",
      "execution_count": 34,
      "metadata": {},
      "outputs": [],
      "source": [
        "# Pilih metode undersampling (Random Undersampling)\n",
        "from imblearn.under_sampling import RandomUnderSampler\n"
      ]
    },
    {
      "cell_type": "code",
      "execution_count": 35,
      "metadata": {},
      "outputs": [
        {
          "name": "stdout",
          "output_type": "stream",
          "text": [
            "Before resampling:\n",
            "[33720 16860  5619]\n",
            "After resampling:\n",
            "[5619 5619 5619]\n"
          ]
        }
      ],
      "source": [
        "from imblearn.under_sampling import RandomUnderSampler\n",
        "from sklearn.datasets import make_classification\n",
        "\n",
        "# Generate a random imbalanced dataset\n",
        "x, y = make_classification(n_classes=3, class_sep=3,\n",
        "weights=[0.6, 0.3, 0.1], n_informative=10,\n",
        "n_redundant=1, flip_y=0, n_features=21,\n",
        "n_clusters_per_class=1, n_samples=56199,\n",
        "random_state=10)\n",
        "\n",
        "# Initialize the RandomUnderSampler\n",
        "rus = RandomUnderSampler(random_state=0)\n",
        "\n",
        "# Fit and transform the dataset\n",
        "x_resampled, y_resampled = rus.fit_resample(x, y)\n",
        "\n",
        "# Print the number of samples in each class before and after resampling\n",
        "print(\"Before resampling:\")\n",
        "print(np.bincount(y))\n",
        "print(\"After resampling:\")\n",
        "print(np.bincount(y_resampled))"
      ]
    },
    {
      "cell_type": "code",
      "execution_count": 36,
      "metadata": {},
      "outputs": [],
      "source": [
        "x = df.drop(['Diabetes_012'],axis=1)\n",
        "y = df['Diabetes_012']"
      ]
    },
    {
      "cell_type": "code",
      "execution_count": 37,
      "metadata": {},
      "outputs": [
        {
          "name": "stdout",
          "output_type": "stream",
          "text": [
            "(223550, 21)\n",
            "(223550,)\n"
          ]
        }
      ],
      "source": [
        "# sebelum undersampling\n",
        "print(x.shape)\n",
        "print(y.shape)"
      ]
    },
    {
      "cell_type": "code",
      "execution_count": 38,
      "metadata": {},
      "outputs": [
        {
          "name": "stdout",
          "output_type": "stream",
          "text": [
            "(16857, 21)\n",
            "(16857,)\n"
          ]
        }
      ],
      "source": [
        "# jumlah data setelah dilakukan undersampling\n",
        "print(x_resampled.shape)\n",
        "print(y_resampled.shape)"
      ]
    },
    {
      "cell_type": "code",
      "execution_count": 39,
      "metadata": {},
      "outputs": [
        {
          "data": {
            "image/png": "[encoded data removed]",
            "text/plain": [
              "<Figure size 900x600 with 1 Axes>"
            ]
          },
          "metadata": {},
          "output_type": "display_data"
        }
      ],
      "source": [
        "fig = plt.subplots(figsize=(9,6))\n",
        "sns.histplot(data=y_resampled)\n",
        "plt.show()"
      ]
    },
    {
      "cell_type": "markdown",
      "metadata": {
        "id": "MqEZEDtp1gR9"
      },
      "source": [
        "## Split Data\n"
      ]
    },
    {
      "cell_type": "code",
      "execution_count": 40,
      "metadata": {
        "colab": {
          "base_uri": "https://localhost:8080/"
        },
        "id": "enBO_UD01iig",
        "outputId": "c194be30-669e-48a3-a328-a79e063108c1"
      },
      "outputs": [
        {
          "name": "stdout",
          "output_type": "stream",
          "text": [
            "x :  (16857, 21)\n",
            "y :  (16857,)\n"
          ]
        }
      ],
      "source": [
        "x = df.drop(columns=['Diabetes_012'], axis=1)\n",
        "y = df['Diabetes_012']\n",
        "print(\"x : \", x_resampled.shape)\n",
        "print(\"y : \", y_resampled.shape)"
      ]
    },
    {
      "cell_type": "code",
      "execution_count": 41,
      "metadata": {
        "id": "v23abKHq2PZC"
      },
      "outputs": [],
      "source": [
        "scaler = StandardScaler()\n",
        "scaler.fit(x)\n",
        "x = scaler.transform(x)"
      ]
    },
    {
      "cell_type": "code",
      "execution_count": 42,
      "metadata": {
        "id": "ht-8UK3T3Vv-"
      },
      "outputs": [],
      "source": [
        "from sklearn.model_selection import train_test_split\n",
        "\n",
        "\n",
        "# Split data menjadi training set dan test set\n",
        "x_train, x_test, y_train, y_test = train_test_split(x_resampled, y_resampled, test_size=0.2, random_state=42)\n"
      ]
    },
    {
      "cell_type": "markdown",
      "metadata": {
        "id": "sCyZOCFF3ffQ"
      },
      "source": [
        "## Modeling SVM"
      ]
    },
    {
      "cell_type": "code",
      "execution_count": 43,
      "metadata": {},
      "outputs": [
        {
          "name": "stdout",
          "output_type": "stream",
          "text": [
            "              precision    recall  f1-score   support\n",
            "\n",
            "           0       1.00      1.00      1.00      1119\n",
            "           1       1.00      1.00      1.00      1162\n",
            "           2       1.00      1.00      1.00      1091\n",
            "\n",
            "    accuracy                           1.00      3372\n",
            "   macro avg       1.00      1.00      1.00      3372\n",
            "weighted avg       1.00      1.00      1.00      3372\n",
            "\n",
            "Akurasi SVM : 100.00%\n"
          ]
        }
      ],
      "source": [
        "clf = SVC(kernel = 'linear')\n",
        "clf.fit(x_train, y_train)\n",
        "\n",
        "y_pred = clf.predict(x_test)\n",
        "CLF_acc = accuracy_score(y_pred, y_test)\n",
        "\n",
        "print(classification_report(y_test, y_pred))\n",
        "print(\"Akurasi SVM : {:.2f}%\".format(CLF_acc*100))"
      ]
    },
    {
      "cell_type": "code",
      "execution_count": 44,
      "metadata": {},
      "outputs": [
        {
          "name": "stdout",
          "output_type": "stream",
          "text": [
            "              precision    recall  f1-score   support\n",
            "\n",
            "           0       1.00      1.00      1.00      1119\n",
            "           1       1.00      1.00      1.00      1162\n",
            "           2       1.00      1.00      1.00      1091\n",
            "\n",
            "    accuracy                           1.00      3372\n",
            "   macro avg       1.00      1.00      1.00      3372\n",
            "weighted avg       1.00      1.00      1.00      3372\n",
            "\n",
            "Akurasi SVM : 100.00%\n"
          ]
        }
      ],
      "source": [
        "clf = SVC(kernel = 'poly' , degree=3, C=1.0)\n",
        "clf.fit(x_train, y_train)\n",
        "\n",
        "y_pred = clf.predict(x_test)\n",
        "CLF_acc = accuracy_score(y_pred, y_test)\n",
        "\n",
        "print(classification_report(y_test, y_pred))\n",
        "print(\"Akurasi SVM : {:.2f}%\".format(CLF_acc*100))"
      ]
    },
    {
      "cell_type": "code",
      "execution_count": 45,
      "metadata": {},
      "outputs": [
        {
          "name": "stdout",
          "output_type": "stream",
          "text": [
            "              precision    recall  f1-score   support\n",
            "\n",
            "           0       0.91      0.94      0.92      1119\n",
            "           1       0.92      0.91      0.91      1162\n",
            "           2       0.98      0.94      0.96      1091\n",
            "\n",
            "    accuracy                           0.93      3372\n",
            "   macro avg       0.93      0.93      0.93      3372\n",
            "weighted avg       0.93      0.93      0.93      3372\n",
            "\n",
            "Akurasi SVM : 93.24%\n"
          ]
        }
      ],
      "source": [
        "clf = SVC(kernel = 'sigmoid' , gamma=1.0)\n",
        "clf.fit(x_train, y_train)\n",
        "\n",
        "y_pred = clf.predict(x_test)\n",
        "CLF_acc = accuracy_score(y_pred, y_test)\n",
        "\n",
        "print(classification_report(y_test, y_pred))\n",
        "print(\"Akurasi SVM : {:.2f}%\".format(CLF_acc*100))"
      ]
    },
    {
      "cell_type": "code",
      "execution_count": 46,
      "metadata": {},
      "outputs": [
        {
          "name": "stdout",
          "output_type": "stream",
          "text": [
            "              precision    recall  f1-score   support\n",
            "\n",
            "           0       1.00      1.00      1.00      1119\n",
            "           1       1.00      1.00      1.00      1162\n",
            "           2       0.99      1.00      1.00      1091\n",
            "\n",
            "    accuracy                           1.00      3372\n",
            "   macro avg       1.00      1.00      1.00      3372\n",
            "weighted avg       1.00      1.00      1.00      3372\n",
            "\n",
            "Akurasi SVM : 99.79%\n"
          ]
        }
      ],
      "source": [
        "clf = SVC(kernel = 'rbf' , gamma=0.1)\n",
        "clf.fit(x_train, y_train)\n",
        "\n",
        "y_pred = clf.predict(x_test)\n",
        "CLF_acc = accuracy_score(y_pred, y_test)\n",
        "\n",
        "print(classification_report(y_test, y_pred))\n",
        "print(\"Akurasi SVM : {:.2f}%\".format(CLF_acc*100))"
      ]
    },
    {
      "cell_type": "markdown",
      "metadata": {
        "id": "-A6CSOQDBnjd"
      },
      "source": [
        "## Testing"
      ]
    },
    {
      "cell_type": "code",
      "execution_count": 47,
      "metadata": {
        "colab": {
          "base_uri": "https://localhost:8080/",
          "height": 130
        },
        "id": "fX5y0IYMBqsR",
        "outputId": "354d98ea-c4ff-4dab-a6ab-5f0ba81483c8"
      },
      "outputs": [
        {
          "data": {
            "text/html": [
              "<div>\n",
              "<style scoped>\n",
              "    .dataframe tbody tr th:only-of-type {\n",
              "        vertical-align: middle;\n",
              "    }\n",
              "\n",
              "    .dataframe tbody tr th {\n",
              "        vertical-align: top;\n",
              "    }\n",
              "\n",
              "    .dataframe thead th {\n",
              "        text-align: right;\n",
              "    }\n",
              "</style>\n",
              "<table border=\"1\" class=\"dataframe\">\n",
              "  <thead>\n",
              "    <tr style=\"text-align: right;\">\n",
              "      <th></th>\n",
              "      <th>HighBP</th>\n",
              "      <th>HighChol</th>\n",
              "      <th>CholCheck</th>\n",
              "      <th>BMI</th>\n",
              "      <th>Smoker</th>\n",
              "      <th>Stroke</th>\n",
              "      <th>HeartDiseaseorAttack</th>\n",
              "      <th>PhysActivity</th>\n",
              "      <th>Fruits</th>\n",
              "      <th>Veggies</th>\n",
              "      <th>...</th>\n",
              "      <th>AnyHealthcare</th>\n",
              "      <th>NoDocbcCost</th>\n",
              "      <th>GenHlth</th>\n",
              "      <th>MentHlth</th>\n",
              "      <th>PhysHlth</th>\n",
              "      <th>DiffWalk</th>\n",
              "      <th>Sex</th>\n",
              "      <th>Age</th>\n",
              "      <th>Education</th>\n",
              "      <th>Income</th>\n",
              "    </tr>\n",
              "  </thead>\n",
              "  <tbody>\n",
              "    <tr>\n",
              "      <th>0</th>\n",
              "      <td>1</td>\n",
              "      <td>0</td>\n",
              "      <td>1</td>\n",
              "      <td>28</td>\n",
              "      <td>0</td>\n",
              "      <td>0</td>\n",
              "      <td>1</td>\n",
              "      <td>0</td>\n",
              "      <td>1</td>\n",
              "      <td>0</td>\n",
              "      <td>...</td>\n",
              "      <td>1</td>\n",
              "      <td>0</td>\n",
              "      <td>2</td>\n",
              "      <td>0</td>\n",
              "      <td>0</td>\n",
              "      <td>0</td>\n",
              "      <td>0</td>\n",
              "      <td>11</td>\n",
              "      <td>4</td>\n",
              "      <td>3</td>\n",
              "    </tr>\n",
              "  </tbody>\n",
              "</table>\n",
              "<p>1 rows × 21 columns</p>\n",
              "</div>"
            ],
            "text/plain": [
              "   HighBP  HighChol  CholCheck  BMI  Smoker  Stroke  HeartDiseaseorAttack  \\\n",
              "0       1         0          1   28       0       0                     1   \n",
              "\n",
              "   PhysActivity  Fruits  Veggies  ...  AnyHealthcare  NoDocbcCost  GenHlth  \\\n",
              "0             0       1        0  ...              1            0        2   \n",
              "\n",
              "   MentHlth  PhysHlth  DiffWalk  Sex  Age  Education  Income  \n",
              "0         0         0         0    0   11          4       3  \n",
              "\n",
              "[1 rows x 21 columns]"
            ]
          },
          "execution_count": 47,
          "metadata": {},
          "output_type": "execute_result"
        }
      ],
      "source": [
        "new_data = {\n",
        "    'HighBP' : [1],\n",
        "    'HighChol' : [0],\n",
        "    'CholCheck' : [1],\n",
        "    'BMI' : [28],\n",
        "    'Smoker' : [0],\n",
        "    'Stroke' : [0],\n",
        "    'HeartDiseaseorAttack' : [1],\n",
        "    'PhysActivity' : [0],\n",
        "    'Fruits' : [1],\n",
        "    'Veggies' : [0],\n",
        "    'HvyAlcoholConsump' : [0],\n",
        "    'AnyHealthcare' : [1],\n",
        "    'NoDocbcCost' : [0],\n",
        "    'GenHlth' : [2],\n",
        "    'MentHlth' : [0],\n",
        "    'PhysHlth' : [0],\n",
        "    'DiffWalk' : [0],\n",
        "    'Sex' : [0],\n",
        "    'Age' : [11],\n",
        "    'Education' : [4],\n",
        "    'Income' : [3]\n",
        "}\n",
        "\n",
        "new_data = pd.DataFrame(new_data)\n",
        "new_data"
      ]
    },
    {
      "cell_type": "code",
      "execution_count": 48,
      "metadata": {
        "colab": {
          "base_uri": "https://localhost:8080/"
        },
        "id": "DgU-6rI_8K9l",
        "outputId": "c8bdd19a-2eb6-4a03-ab6d-17b137646ae9"
      },
      "outputs": [
        {
          "name": "stdout",
          "output_type": "stream",
          "text": [
            "Diagnosis Data Baru :  [0]\n"
          ]
        }
      ],
      "source": [
        "scaled_new_data = scaler.transform(new_data)\n",
        "y_pred_new = clf.predict(scaled_new_data)\n",
        "\n",
        "print('Diagnosis Data Baru : ', y_pred_new)"
      ]
    },
    {
      "cell_type": "markdown",
      "metadata": {
        "id": "gyQ-ZBKtmGWa"
      },
      "source": [
        "## simpan model"
      ]
    },
    {
      "cell_type": "code",
      "execution_count": 49,
      "metadata": {
        "id": "18X_HQWfzhW9"
      },
      "outputs": [],
      "source": [
        "from sklearn.preprocessing import StandardScaler"
      ]
    },
    {
      "cell_type": "code",
      "execution_count": 50,
      "metadata": {
        "id": "7uW26lqb0Kl3"
      },
      "outputs": [],
      "source": [
        "scaler = StandardScaler()\n",
        "scaler.fit(x_train)\n",
        "x = scaler.transform(x)"
      ]
    },
    {
      "cell_type": "code",
      "execution_count": 51,
      "metadata": {
        "id": "XLSToA1izklY"
      },
      "outputs": [],
      "source": [
        "data_diskalaan_uji = scaler.transform(x_test)"
      ]
    },
    {
      "cell_type": "code",
      "execution_count": 52,
      "metadata": {
        "colab": {
          "base_uri": "https://localhost:8080/"
        },
        "id": "D_qQ1-eHmSbt",
        "outputId": "44441f48-93ef-4cd8-a652-9f61108e0454"
      },
      "outputs": [
        {
          "name": "stdout",
          "output_type": "stream",
          "text": [
            "              precision    recall  f1-score   support\n",
            "\n",
            "           0       1.00      1.00      1.00      1119\n",
            "           1       1.00      1.00      1.00      1162\n",
            "           2       1.00      1.00      1.00      1091\n",
            "\n",
            "    accuracy                           1.00      3372\n",
            "   macro avg       1.00      1.00      1.00      3372\n",
            "weighted avg       1.00      1.00      1.00      3372\n",
            "\n"
          ]
        },
        {
          "name": "stderr",
          "output_type": "stream",
          "text": [
            "c:\\Users\\annis\\AppData\\Local\\Programs\\Python\\Python38\\lib\\site-packages\\sklearn\\svm\\_classes.py:32: FutureWarning: The default value of `dual` will change from `True` to `'auto'` in 1.5. Set the value of `dual` explicitly to suppress the warning.\n",
            "  warnings.warn(\n"
          ]
        }
      ],
      "source": [
        "model_numpy = make_pipeline(StandardScaler(), LinearSVC())\n",
        "\n",
        "model_numpy.fit(x_train, y_train)\n",
        "\n",
        "y_pred = model_numpy.predict(x_test)\n",
        "print(classification_report(y_test, y_pred))\n",
        "\n",
        "with open(\"model_numpy.pkl\", \"wb\") as model_file:\n",
        "  pickle.dump(model_numpy, model_file)"
      ]
    },
    {
      "cell_type": "code",
      "execution_count": 53,
      "metadata": {
        "id": "5bxVyF3v8Hzm"
      },
      "outputs": [],
      "source": [
        "# load model\n",
        "with open(\"model_numpy.pkl\", \"rb\") as model_file:\n",
        "    model = pickle.load(model_file)"
      ]
    },
    {
      "cell_type": "code",
      "execution_count": 54,
      "metadata": {
        "colab": {
          "base_uri": "https://localhost:8080/",
          "height": 130
        },
        "id": "L2JSwNGx8NyN",
        "outputId": "b9288dcd-3141-4d40-c6dd-a61b149f7748"
      },
      "outputs": [
        {
          "data": {
            "text/html": [
              "<div>\n",
              "<style scoped>\n",
              "    .dataframe tbody tr th:only-of-type {\n",
              "        vertical-align: middle;\n",
              "    }\n",
              "\n",
              "    .dataframe tbody tr th {\n",
              "        vertical-align: top;\n",
              "    }\n",
              "\n",
              "    .dataframe thead th {\n",
              "        text-align: right;\n",
              "    }\n",
              "</style>\n",
              "<table border=\"1\" class=\"dataframe\">\n",
              "  <thead>\n",
              "    <tr style=\"text-align: right;\">\n",
              "      <th></th>\n",
              "      <th>HighBP</th>\n",
              "      <th>HighChol</th>\n",
              "      <th>CholCheck</th>\n",
              "      <th>BMI</th>\n",
              "      <th>Smoker</th>\n",
              "      <th>Stroke</th>\n",
              "      <th>HeartDiseaseorAttack</th>\n",
              "      <th>PhysActivity</th>\n",
              "      <th>Fruits</th>\n",
              "      <th>Veggies</th>\n",
              "      <th>...</th>\n",
              "      <th>AnyHealthcare</th>\n",
              "      <th>NoDocbcCost</th>\n",
              "      <th>GenHlth</th>\n",
              "      <th>MentHlth</th>\n",
              "      <th>PhysHlth</th>\n",
              "      <th>DiffWalk</th>\n",
              "      <th>Sex</th>\n",
              "      <th>Age</th>\n",
              "      <th>Education</th>\n",
              "      <th>Income</th>\n",
              "    </tr>\n",
              "  </thead>\n",
              "  <tbody>\n",
              "    <tr>\n",
              "      <th>0</th>\n",
              "      <td>4</td>\n",
              "      <td>1</td>\n",
              "      <td>0</td>\n",
              "      <td>36.6</td>\n",
              "      <td>1</td>\n",
              "      <td>1</td>\n",
              "      <td>4</td>\n",
              "      <td>2</td>\n",
              "      <td>9</td>\n",
              "      <td>8</td>\n",
              "      <td>...</td>\n",
              "      <td>5</td>\n",
              "      <td>4</td>\n",
              "      <td>0</td>\n",
              "      <td>30</td>\n",
              "      <td>1</td>\n",
              "      <td>1</td>\n",
              "      <td>0</td>\n",
              "      <td>7</td>\n",
              "      <td>1</td>\n",
              "      <td>11</td>\n",
              "    </tr>\n",
              "  </tbody>\n",
              "</table>\n",
              "<p>1 rows × 21 columns</p>\n",
              "</div>"
            ],
            "text/plain": [
              "   HighBP  HighChol  CholCheck   BMI  Smoker  Stroke  HeartDiseaseorAttack  \\\n",
              "0       4         1          0  36.6       1       1                     4   \n",
              "\n",
              "   PhysActivity  Fruits  Veggies  ...  AnyHealthcare  NoDocbcCost  GenHlth  \\\n",
              "0             2       9        8  ...              5            4        0   \n",
              "\n",
              "   MentHlth  PhysHlth  DiffWalk  Sex  Age  Education  Income  \n",
              "0        30         1         1    0    7          1      11  \n",
              "\n",
              "[1 rows x 21 columns]"
            ]
          },
          "execution_count": 54,
          "metadata": {},
          "output_type": "execute_result"
        }
      ],
      "source": [
        "new_data = {\n",
        "    'HighBP' : [4],\n",
        "    'HighChol' : [1],\n",
        "    'CholCheck' : [0],\n",
        "    'BMI' : [36.6],\n",
        "    'Smoker' : [1],\n",
        "    'Stroke' : [1],\n",
        "    'HeartDiseaseorAttack' : [4],\n",
        "    'PhysActivity' : [2],\n",
        "    'Fruits' : [9],\n",
        "    'Veggies' : [8],\n",
        "    'HvyAlcoholConsump' : [0],\n",
        "    'AnyHealthcare' : [5],\n",
        "    'NoDocbcCost' : [4],\n",
        "    'GenHlth' : [0],\n",
        "    'MentHlth' : [30],\n",
        "    'PhysHlth' : [1],\n",
        "    'DiffWalk' : [1],\n",
        "    'Sex' : [0],\n",
        "    'Age' : [7],\n",
        "    'Education' : [1],\n",
        "    'Income' : [11]\n",
        "}\n",
        "\n",
        "new_data = pd.DataFrame(new_data)\n",
        "new_data"
      ]
    },
    {
      "cell_type": "code",
      "execution_count": 55,
      "metadata": {},
      "outputs": [
        {
          "name": "stdout",
          "output_type": "stream",
          "text": [
            "Diagnosis Data Baru :  [2]\n"
          ]
        },
        {
          "name": "stderr",
          "output_type": "stream",
          "text": [
            "c:\\Users\\annis\\AppData\\Local\\Programs\\Python\\Python38\\lib\\site-packages\\sklearn\\base.py:458: UserWarning: X has feature names, but StandardScaler was fitted without feature names\n",
            "  warnings.warn(\n"
          ]
        }
      ],
      "source": [
        "scaled_new_data = scaler.transform(new_data)\n",
        "y_pred_new = clf.predict(scaled_new_data)\n",
        "\n",
        "print('Diagnosis Data Baru : ', y_pred_new)"
      ]
    }
  ],
  "metadata": {
    "colab": {
      "provenance": []
    },
    "kernelspec": {
      "display_name": "Python 3",
      "name": "python3"
    },
    "language_info": {
      "codemirror_mode": {
        "name": "ipython",
        "version": 3
      },
      "file_extension": ".py",
      "mimetype": "text/x-python",
      "name": "python",
      "nbconvert_exporter": "python",
      "pygments_lexer": "ipython3",
      "version": "3.8.3"
    }
  },
  "nbformat": 4,
  "nbformat_minor": 0
}
